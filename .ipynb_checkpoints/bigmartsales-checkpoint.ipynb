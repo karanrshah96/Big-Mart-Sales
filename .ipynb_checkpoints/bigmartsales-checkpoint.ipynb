{
 "cells": [
  {
   "cell_type": "markdown",
   "metadata": {},
   "source": [
    "# Big Mart Sales Prediction"
   ]
  },
  {
   "cell_type": "markdown",
   "metadata": {},
   "source": [
    "We will explore the data Big Mart Outlet Sales dataset from Kaggle (https://www.kaggle.com/brijbhushannanda1979/bigmart-sales-data). The dataset consists of 14203 points and 13 features.\n",
    "\n",
    "The goal is to predict the sales for items in a given store based on a variety of parameters."
   ]
  },
  {
   "cell_type": "code",
   "execution_count": 142,
   "metadata": {},
   "outputs": [],
   "source": [
    "import numpy as np\n",
    "import pandas as pd\n",
    "import matplotlib.pyplot as plt\n",
    "import seaborn as sns\n",
    "from scipy.stats import mode\n",
    "import warnings\n",
    "warnings.filterwarnings(\"ignore\", category=DeprecationWarning) \n",
    "\n",
    "from sklearn.preprocessing import LabelEncoder, OneHotEncoder\n",
    "from sklearn.ensemble import RandomForestRegressor\n",
    "from xgboost import XGBRegressor\n",
    "from sklearn.model_selection import GridSearchCV,train_test_split,cross_val_score\n",
    "from sklearn.tree import DecisionTreeRegressor\n",
    "from sklearn.linear_model import Lasso,Ridge, LinearRegression\n",
    "from sklearn.ensemble import RandomForestRegressor\n",
    "from sklearn.metrics import mean_squared_error\n",
    "from xgboost import XGBRFRegressor\n",
    "from sklearn.ensemble import GradientBoostingRegressor"
   ]
  },
  {
   "cell_type": "code",
   "execution_count": 2,
   "metadata": {},
   "outputs": [
    {
     "name": "stdout",
     "output_type": "stream",
     "text": [
      "bigmartsales.ipynb  submission.csv  test_AbJTz2l.csv  train_v9rqX0R.csv\n"
     ]
    }
   ],
   "source": [
    "!ls"
   ]
  },
  {
   "cell_type": "markdown",
   "metadata": {},
   "source": [
    "# Data Description"
   ]
  },
  {
   "cell_type": "markdown",
   "metadata": {},
   "source": [
    "Load the data and combine train and test sets for exploration and cleaning"
   ]
  },
  {
   "cell_type": "code",
   "execution_count": 3,
   "metadata": {},
   "outputs": [],
   "source": [
    "data_train = pd.read_csv(\"train_v9rqX0R.csv\")\n",
    "data_test = pd.read_csv(\"test_AbJTz2l.csv\")\n",
    "data_train[\"source\"] = \"train\"\n",
    "data_test[\"source\"] = \"test\""
   ]
  },
  {
   "cell_type": "code",
   "execution_count": 4,
   "metadata": {},
   "outputs": [],
   "source": [
    "data = pd.concat([data_train,data_test],ignore_index=True)"
   ]
  },
  {
   "cell_type": "code",
   "execution_count": 5,
   "metadata": {},
   "outputs": [
    {
     "data": {
      "text/plain": [
       "(14204, 13)"
      ]
     },
     "execution_count": 5,
     "metadata": {},
     "output_type": "execute_result"
    }
   ],
   "source": [
    "data.shape"
   ]
  },
  {
   "cell_type": "code",
   "execution_count": 6,
   "metadata": {},
   "outputs": [
    {
     "data": {
      "text/html": [
       "<div>\n",
       "<style scoped>\n",
       "    .dataframe tbody tr th:only-of-type {\n",
       "        vertical-align: middle;\n",
       "    }\n",
       "\n",
       "    .dataframe tbody tr th {\n",
       "        vertical-align: top;\n",
       "    }\n",
       "\n",
       "    .dataframe thead th {\n",
       "        text-align: right;\n",
       "    }\n",
       "</style>\n",
       "<table border=\"1\" class=\"dataframe\">\n",
       "  <thead>\n",
       "    <tr style=\"text-align: right;\">\n",
       "      <th></th>\n",
       "      <th>Item_Fat_Content</th>\n",
       "      <th>Item_Identifier</th>\n",
       "      <th>Item_MRP</th>\n",
       "      <th>Item_Outlet_Sales</th>\n",
       "      <th>Item_Type</th>\n",
       "      <th>Item_Visibility</th>\n",
       "      <th>Item_Weight</th>\n",
       "      <th>Outlet_Establishment_Year</th>\n",
       "      <th>Outlet_Identifier</th>\n",
       "      <th>Outlet_Location_Type</th>\n",
       "      <th>Outlet_Size</th>\n",
       "      <th>Outlet_Type</th>\n",
       "      <th>source</th>\n",
       "    </tr>\n",
       "  </thead>\n",
       "  <tbody>\n",
       "    <tr>\n",
       "      <th>0</th>\n",
       "      <td>Low Fat</td>\n",
       "      <td>FDA15</td>\n",
       "      <td>249.8092</td>\n",
       "      <td>3735.1380</td>\n",
       "      <td>Dairy</td>\n",
       "      <td>0.016047</td>\n",
       "      <td>9.30</td>\n",
       "      <td>1999</td>\n",
       "      <td>OUT049</td>\n",
       "      <td>Tier 1</td>\n",
       "      <td>Medium</td>\n",
       "      <td>Supermarket Type1</td>\n",
       "      <td>train</td>\n",
       "    </tr>\n",
       "    <tr>\n",
       "      <th>1</th>\n",
       "      <td>Regular</td>\n",
       "      <td>DRC01</td>\n",
       "      <td>48.2692</td>\n",
       "      <td>443.4228</td>\n",
       "      <td>Soft Drinks</td>\n",
       "      <td>0.019278</td>\n",
       "      <td>5.92</td>\n",
       "      <td>2009</td>\n",
       "      <td>OUT018</td>\n",
       "      <td>Tier 3</td>\n",
       "      <td>Medium</td>\n",
       "      <td>Supermarket Type2</td>\n",
       "      <td>train</td>\n",
       "    </tr>\n",
       "    <tr>\n",
       "      <th>2</th>\n",
       "      <td>Low Fat</td>\n",
       "      <td>FDN15</td>\n",
       "      <td>141.6180</td>\n",
       "      <td>2097.2700</td>\n",
       "      <td>Meat</td>\n",
       "      <td>0.016760</td>\n",
       "      <td>17.50</td>\n",
       "      <td>1999</td>\n",
       "      <td>OUT049</td>\n",
       "      <td>Tier 1</td>\n",
       "      <td>Medium</td>\n",
       "      <td>Supermarket Type1</td>\n",
       "      <td>train</td>\n",
       "    </tr>\n",
       "    <tr>\n",
       "      <th>3</th>\n",
       "      <td>Regular</td>\n",
       "      <td>FDX07</td>\n",
       "      <td>182.0950</td>\n",
       "      <td>732.3800</td>\n",
       "      <td>Fruits and Vegetables</td>\n",
       "      <td>0.000000</td>\n",
       "      <td>19.20</td>\n",
       "      <td>1998</td>\n",
       "      <td>OUT010</td>\n",
       "      <td>Tier 3</td>\n",
       "      <td>NaN</td>\n",
       "      <td>Grocery Store</td>\n",
       "      <td>train</td>\n",
       "    </tr>\n",
       "    <tr>\n",
       "      <th>4</th>\n",
       "      <td>Low Fat</td>\n",
       "      <td>NCD19</td>\n",
       "      <td>53.8614</td>\n",
       "      <td>994.7052</td>\n",
       "      <td>Household</td>\n",
       "      <td>0.000000</td>\n",
       "      <td>8.93</td>\n",
       "      <td>1987</td>\n",
       "      <td>OUT013</td>\n",
       "      <td>Tier 3</td>\n",
       "      <td>High</td>\n",
       "      <td>Supermarket Type1</td>\n",
       "      <td>train</td>\n",
       "    </tr>\n",
       "  </tbody>\n",
       "</table>\n",
       "</div>"
      ],
      "text/plain": [
       "  Item_Fat_Content Item_Identifier  Item_MRP  Item_Outlet_Sales  \\\n",
       "0          Low Fat           FDA15  249.8092          3735.1380   \n",
       "1          Regular           DRC01   48.2692           443.4228   \n",
       "2          Low Fat           FDN15  141.6180          2097.2700   \n",
       "3          Regular           FDX07  182.0950           732.3800   \n",
       "4          Low Fat           NCD19   53.8614           994.7052   \n",
       "\n",
       "               Item_Type  Item_Visibility  Item_Weight  \\\n",
       "0                  Dairy         0.016047         9.30   \n",
       "1            Soft Drinks         0.019278         5.92   \n",
       "2                   Meat         0.016760        17.50   \n",
       "3  Fruits and Vegetables         0.000000        19.20   \n",
       "4              Household         0.000000         8.93   \n",
       "\n",
       "   Outlet_Establishment_Year Outlet_Identifier Outlet_Location_Type  \\\n",
       "0                       1999            OUT049               Tier 1   \n",
       "1                       2009            OUT018               Tier 3   \n",
       "2                       1999            OUT049               Tier 1   \n",
       "3                       1998            OUT010               Tier 3   \n",
       "4                       1987            OUT013               Tier 3   \n",
       "\n",
       "  Outlet_Size        Outlet_Type source  \n",
       "0      Medium  Supermarket Type1  train  \n",
       "1      Medium  Supermarket Type2  train  \n",
       "2      Medium  Supermarket Type1  train  \n",
       "3         NaN      Grocery Store  train  \n",
       "4        High  Supermarket Type1  train  "
      ]
     },
     "execution_count": 6,
     "metadata": {},
     "output_type": "execute_result"
    }
   ],
   "source": [
    "data.head()"
   ]
  },
  {
   "cell_type": "code",
   "execution_count": 7,
   "metadata": {},
   "outputs": [
    {
     "data": {
      "text/plain": [
       "Index(['Item_Fat_Content', 'Item_Identifier', 'Item_MRP', 'Item_Outlet_Sales',\n",
       "       'Item_Type', 'Item_Visibility', 'Item_Weight',\n",
       "       'Outlet_Establishment_Year', 'Outlet_Identifier',\n",
       "       'Outlet_Location_Type', 'Outlet_Size', 'Outlet_Type', 'source'],\n",
       "      dtype='object')"
      ]
     },
     "execution_count": 7,
     "metadata": {},
     "output_type": "execute_result"
    }
   ],
   "source": [
    "data.columns"
   ]
  },
  {
   "cell_type": "code",
   "execution_count": 8,
   "metadata": {},
   "outputs": [
    {
     "data": {
      "text/plain": [
       "Item_Fat_Content              object\n",
       "Item_Identifier               object\n",
       "Item_MRP                     float64\n",
       "Item_Outlet_Sales            float64\n",
       "Item_Type                     object\n",
       "Item_Visibility              float64\n",
       "Item_Weight                  float64\n",
       "Outlet_Establishment_Year      int64\n",
       "Outlet_Identifier             object\n",
       "Outlet_Location_Type          object\n",
       "Outlet_Size                   object\n",
       "Outlet_Type                   object\n",
       "source                        object\n",
       "dtype: object"
      ]
     },
     "execution_count": 8,
     "metadata": {},
     "output_type": "execute_result"
    }
   ],
   "source": [
    "data.dtypes"
   ]
  },
  {
   "cell_type": "markdown",
   "metadata": {},
   "source": [
    "We have a healthy mix of categorical and continuous variables. All the object types must be converted to int/float type before building the model."
   ]
  },
  {
   "cell_type": "code",
   "execution_count": 9,
   "metadata": {},
   "outputs": [
    {
     "data": {
      "text/html": [
       "<div>\n",
       "<style scoped>\n",
       "    .dataframe tbody tr th:only-of-type {\n",
       "        vertical-align: middle;\n",
       "    }\n",
       "\n",
       "    .dataframe tbody tr th {\n",
       "        vertical-align: top;\n",
       "    }\n",
       "\n",
       "    .dataframe thead th {\n",
       "        text-align: right;\n",
       "    }\n",
       "</style>\n",
       "<table border=\"1\" class=\"dataframe\">\n",
       "  <thead>\n",
       "    <tr style=\"text-align: right;\">\n",
       "      <th></th>\n",
       "      <th>Item_MRP</th>\n",
       "      <th>Item_Outlet_Sales</th>\n",
       "      <th>Item_Visibility</th>\n",
       "      <th>Item_Weight</th>\n",
       "      <th>Outlet_Establishment_Year</th>\n",
       "    </tr>\n",
       "  </thead>\n",
       "  <tbody>\n",
       "    <tr>\n",
       "      <th>count</th>\n",
       "      <td>14204.000000</td>\n",
       "      <td>8523.000000</td>\n",
       "      <td>14204.000000</td>\n",
       "      <td>11765.000000</td>\n",
       "      <td>14204.000000</td>\n",
       "    </tr>\n",
       "    <tr>\n",
       "      <th>mean</th>\n",
       "      <td>141.004977</td>\n",
       "      <td>2181.288914</td>\n",
       "      <td>0.065953</td>\n",
       "      <td>12.792854</td>\n",
       "      <td>1997.830681</td>\n",
       "    </tr>\n",
       "    <tr>\n",
       "      <th>std</th>\n",
       "      <td>62.086938</td>\n",
       "      <td>1706.499616</td>\n",
       "      <td>0.051459</td>\n",
       "      <td>4.652502</td>\n",
       "      <td>8.371664</td>\n",
       "    </tr>\n",
       "    <tr>\n",
       "      <th>min</th>\n",
       "      <td>31.290000</td>\n",
       "      <td>33.290000</td>\n",
       "      <td>0.000000</td>\n",
       "      <td>4.555000</td>\n",
       "      <td>1985.000000</td>\n",
       "    </tr>\n",
       "    <tr>\n",
       "      <th>25%</th>\n",
       "      <td>94.012000</td>\n",
       "      <td>834.247400</td>\n",
       "      <td>0.027036</td>\n",
       "      <td>8.710000</td>\n",
       "      <td>1987.000000</td>\n",
       "    </tr>\n",
       "    <tr>\n",
       "      <th>50%</th>\n",
       "      <td>142.247000</td>\n",
       "      <td>1794.331000</td>\n",
       "      <td>0.054021</td>\n",
       "      <td>12.600000</td>\n",
       "      <td>1999.000000</td>\n",
       "    </tr>\n",
       "    <tr>\n",
       "      <th>75%</th>\n",
       "      <td>185.855600</td>\n",
       "      <td>3101.296400</td>\n",
       "      <td>0.094037</td>\n",
       "      <td>16.750000</td>\n",
       "      <td>2004.000000</td>\n",
       "    </tr>\n",
       "    <tr>\n",
       "      <th>max</th>\n",
       "      <td>266.888400</td>\n",
       "      <td>13086.964800</td>\n",
       "      <td>0.328391</td>\n",
       "      <td>21.350000</td>\n",
       "      <td>2009.000000</td>\n",
       "    </tr>\n",
       "  </tbody>\n",
       "</table>\n",
       "</div>"
      ],
      "text/plain": [
       "           Item_MRP  Item_Outlet_Sales  Item_Visibility   Item_Weight  \\\n",
       "count  14204.000000        8523.000000     14204.000000  11765.000000   \n",
       "mean     141.004977        2181.288914         0.065953     12.792854   \n",
       "std       62.086938        1706.499616         0.051459      4.652502   \n",
       "min       31.290000          33.290000         0.000000      4.555000   \n",
       "25%       94.012000         834.247400         0.027036      8.710000   \n",
       "50%      142.247000        1794.331000         0.054021     12.600000   \n",
       "75%      185.855600        3101.296400         0.094037     16.750000   \n",
       "max      266.888400       13086.964800         0.328391     21.350000   \n",
       "\n",
       "       Outlet_Establishment_Year  \n",
       "count               14204.000000  \n",
       "mean                 1997.830681  \n",
       "std                     8.371664  \n",
       "min                  1985.000000  \n",
       "25%                  1987.000000  \n",
       "50%                  1999.000000  \n",
       "75%                  2004.000000  \n",
       "max                  2009.000000  "
      ]
     },
     "execution_count": 9,
     "metadata": {},
     "output_type": "execute_result"
    }
   ],
   "source": [
    "data.describe()"
   ]
  },
  {
   "cell_type": "code",
   "execution_count": 10,
   "metadata": {},
   "outputs": [
    {
     "data": {
      "text/plain": [
       "Item_Fat_Content              0.000000\n",
       "Item_Identifier               0.000000\n",
       "Item_MRP                      0.000000\n",
       "Item_Outlet_Sales            39.995776\n",
       "Item_Type                     0.000000\n",
       "Item_Visibility               0.000000\n",
       "Item_Weight                  17.171219\n",
       "Outlet_Establishment_Year     0.000000\n",
       "Outlet_Identifier             0.000000\n",
       "Outlet_Location_Type          0.000000\n",
       "Outlet_Size                  28.273726\n",
       "Outlet_Type                   0.000000\n",
       "source                        0.000000\n",
       "dtype: float64"
      ]
     },
     "execution_count": 10,
     "metadata": {},
     "output_type": "execute_result"
    }
   ],
   "source": [
    "(data.isnull().sum()/data.shape[0]*100)"
   ]
  },
  {
   "cell_type": "markdown",
   "metadata": {},
   "source": [
    "There are three features that have NULL values:\n",
    "\n",
    "1. Item_Outlet_Sales: Our dependent variable. Must be noted that the null values are wholly because we have concatenated the already given train and test datasets. The test dataset does not contain  values for number of sales and is filled with NULLs\n",
    "\n",
    "2. Item_Weight: Might be an important feature in predicting sales. So it does not make sense to remove the values completely. Lets decide how to impute with further exploration. \n",
    "\n",
    "3. Outlet_Size: Might be very crucial in predicting our dependent variables. Not unlike above, will require further exploration"
   ]
  },
  {
   "cell_type": "markdown",
   "metadata": {},
   "source": [
    "# Exploratory Data Analysis"
   ]
  },
  {
   "cell_type": "markdown",
   "metadata": {},
   "source": [
    "## Item Sales"
   ]
  },
  {
   "cell_type": "markdown",
   "metadata": {},
   "source": [
    "The first feature I usually explore is the dependent variable. It gives a statistical description about the goal. And more importantly, if there is any feature engineering to do, it is better to do it first as we will further explore the relationship of the independent variables with the dependent variable."
   ]
  },
  {
   "cell_type": "code",
   "execution_count": 11,
   "metadata": {},
   "outputs": [
    {
     "data": {
      "text/plain": [
       "count     8523.000000\n",
       "mean      2181.288914\n",
       "std       1706.499616\n",
       "min         33.290000\n",
       "25%        834.247400\n",
       "50%       1794.331000\n",
       "75%       3101.296400\n",
       "max      13086.964800\n",
       "Name: Item_Outlet_Sales, dtype: float64"
      ]
     },
     "execution_count": 11,
     "metadata": {},
     "output_type": "execute_result"
    }
   ],
   "source": [
    "data['Item_Outlet_Sales'].describe()"
   ]
  },
  {
   "cell_type": "code",
   "execution_count": 12,
   "metadata": {},
   "outputs": [
    {
     "data": {
      "text/plain": [
       "<matplotlib.axes._subplots.AxesSubplot at 0x7f14c2f7cd68>"
      ]
     },
     "execution_count": 12,
     "metadata": {},
     "output_type": "execute_result"
    },
    {
     "data": {
      "image/png": "[encoded data removed]",
      "text/plain": [
       "<matplotlib.figure.Figure at 0x7f14c2f7c748>"
      ]
     },
     "metadata": {},
     "output_type": "display_data"
    }
   ],
   "source": [
    "sns.distplot(data['Item_Outlet_Sales'])"
   ]
  },
  {
   "cell_type": "code",
   "execution_count": 13,
   "metadata": {},
   "outputs": [
    {
     "data": {
      "text/plain": [
       "<matplotlib.axes._subplots.AxesSubplot at 0x7f14c2ebdba8>"
      ]
     },
     "execution_count": 13,
     "metadata": {},
     "output_type": "execute_result"
    },
    {
     "data": {
      "image/png": "[encoded data removed]",
      "text/plain": [
       "<matplotlib.figure.Figure at 0x7f14c2efcb38>"
      ]
     },
     "metadata": {},
     "output_type": "display_data"
    }
   ],
   "source": [
    "sns.distplot(np.log1p(data['Item_Outlet_Sales']))"
   ]
  },
  {
   "cell_type": "code",
   "execution_count": 14,
   "metadata": {},
   "outputs": [],
   "source": [
    "data['log_sales'] = np.log1p(data['Item_Outlet_Sales'])"
   ]
  },
  {
   "cell_type": "markdown",
   "metadata": {},
   "source": [
    "By taking the log of the dependent variable it seems to be more normally distributed which may help some algorithms to generalize much better. We can train on both and see which works out better."
   ]
  },
  {
   "cell_type": "markdown",
   "metadata": {},
   "source": [
    "## Item Weight"
   ]
  },
  {
   "cell_type": "markdown",
   "metadata": {},
   "source": [
    "I can assume that lighter items may sell out more because of the ease they present. However lets dive in to check more."
   ]
  },
  {
   "cell_type": "code",
   "execution_count": 15,
   "metadata": {},
   "outputs": [
    {
     "name": "stdout",
     "output_type": "stream",
     "text": [
      "# of NULL Values: 2439\n"
     ]
    }
   ],
   "source": [
    "print('# of NULL Values:',data['Item_Weight'].isnull().sum())"
   ]
  },
  {
   "cell_type": "markdown",
   "metadata": {},
   "source": [
    "We do not want to lose out on all this data especially since it is around 20 percent of the total. The best strategy is to impute the NaNs. We know that we have an identifier for each product. The same product must have the same weight. Let us use a pivot to get the weights of each product and replace the NaNs"
   ]
  },
  {
   "cell_type": "code",
   "execution_count": 16,
   "metadata": {},
   "outputs": [
    {
     "data": {
      "text/html": [
       "<div>\n",
       "<style scoped>\n",
       "    .dataframe tbody tr th:only-of-type {\n",
       "        vertical-align: middle;\n",
       "    }\n",
       "\n",
       "    .dataframe tbody tr th {\n",
       "        vertical-align: top;\n",
       "    }\n",
       "\n",
       "    .dataframe thead th {\n",
       "        text-align: right;\n",
       "    }\n",
       "</style>\n",
       "<table border=\"1\" class=\"dataframe\">\n",
       "  <thead>\n",
       "    <tr style=\"text-align: right;\">\n",
       "      <th></th>\n",
       "      <th>Item_Weight</th>\n",
       "    </tr>\n",
       "    <tr>\n",
       "      <th>Item_Identifier</th>\n",
       "      <th></th>\n",
       "    </tr>\n",
       "  </thead>\n",
       "  <tbody>\n",
       "    <tr>\n",
       "      <th>DRA12</th>\n",
       "      <td>11.600</td>\n",
       "    </tr>\n",
       "    <tr>\n",
       "      <th>DRA24</th>\n",
       "      <td>19.350</td>\n",
       "    </tr>\n",
       "    <tr>\n",
       "      <th>DRA59</th>\n",
       "      <td>8.270</td>\n",
       "    </tr>\n",
       "    <tr>\n",
       "      <th>DRB01</th>\n",
       "      <td>7.390</td>\n",
       "    </tr>\n",
       "    <tr>\n",
       "      <th>DRB13</th>\n",
       "      <td>6.115</td>\n",
       "    </tr>\n",
       "  </tbody>\n",
       "</table>\n",
       "</div>"
      ],
      "text/plain": [
       "                 Item_Weight\n",
       "Item_Identifier             \n",
       "DRA12                 11.600\n",
       "DRA24                 19.350\n",
       "DRA59                  8.270\n",
       "DRB01                  7.390\n",
       "DRB13                  6.115"
      ]
     },
     "execution_count": 16,
     "metadata": {},
     "output_type": "execute_result"
    }
   ],
   "source": [
    "weight_pivot_table = data.pivot_table(values='Item_Weight', index='Item_Identifier')\n",
    "weight_pivot_table.head()"
   ]
  },
  {
   "cell_type": "code",
   "execution_count": 17,
   "metadata": {},
   "outputs": [],
   "source": [
    "missing_weights = data[\"Item_Weight\"].isnull()\n",
    "data.loc[missing_weights,\"Item_Weight\"] = data.loc[missing_weights,\"Item_Identifier\"].apply(lambda x: weight_pivot_table.loc[x])"
   ]
  },
  {
   "cell_type": "code",
   "execution_count": 18,
   "metadata": {},
   "outputs": [
    {
     "name": "stdout",
     "output_type": "stream",
     "text": [
      "# of NULL Values: 0\n"
     ]
    }
   ],
   "source": [
    "print('# of NULL Values:',data['Item_Weight'].isnull().sum())"
   ]
  },
  {
   "cell_type": "markdown",
   "metadata": {},
   "source": [
    "Now that we have removed the NaNs let us see the statiscal properties and the relationship with the dependent variable"
   ]
  },
  {
   "cell_type": "code",
   "execution_count": 19,
   "metadata": {},
   "outputs": [
    {
     "data": {
      "text/plain": [
       "count    14204.000000\n",
       "mean        12.793380\n",
       "std          4.651716\n",
       "min          4.555000\n",
       "25%          8.710000\n",
       "50%         12.600000\n",
       "75%         16.750000\n",
       "max         21.350000\n",
       "Name: Item_Weight, dtype: float64"
      ]
     },
     "execution_count": 19,
     "metadata": {},
     "output_type": "execute_result"
    }
   ],
   "source": [
    "data['Item_Weight'].describe()"
   ]
  },
  {
   "cell_type": "code",
   "execution_count": 20,
   "metadata": {},
   "outputs": [
    {
     "data": {
      "text/plain": [
       "<matplotlib.axes._subplots.AxesSubplot at 0x7f14bf5a8c18>"
      ]
     },
     "execution_count": 20,
     "metadata": {},
     "output_type": "execute_result"
    },
    {
     "data": {
      "image/png": "[encoded data removed]",
      "text/plain": [
       "<matplotlib.figure.Figure at 0x7f14bf634cf8>"
      ]
     },
     "metadata": {},
     "output_type": "display_data"
    }
   ],
   "source": [
    "sns.distplot(data['Item_Weight'])"
   ]
  },
  {
   "cell_type": "code",
   "execution_count": 21,
   "metadata": {},
   "outputs": [
    {
     "data": {
      "text/plain": [
       "<matplotlib.axes._subplots.AxesSubplot at 0x7f14bf4c1518>"
      ]
     },
     "execution_count": 21,
     "metadata": {},
     "output_type": "execute_result"
    },
    {
     "data": {
      "image/png": "[encoded data removed]",
      "text/plain": [
       "<matplotlib.figure.Figure at 0x7f14bf533588>"
      ]
     },
     "metadata": {},
     "output_type": "display_data"
    }
   ],
   "source": [
    "fig, ax = plt.subplots(1,2,figsize=(10,5))\n",
    "sns.scatterplot(data['Item_Weight'], data['Item_Outlet_Sales'], ax=ax[0])\n",
    "sns.scatterplot(data['Item_Weight'], data['log_sales'], ax=ax[1])"
   ]
  },
  {
   "cell_type": "markdown",
   "metadata": {},
   "source": [
    "Wow ! It could not be any clear. There is no decernible correlation between the weight and the two dependent variables. Looks like our earlier assumption was inaccurate"
   ]
  },
  {
   "cell_type": "code",
   "execution_count": 22,
   "metadata": {},
   "outputs": [
    {
     "name": "stdout",
     "output_type": "stream",
     "text": [
      "7.463090424534277\n",
      "7.28682045797702\n",
      "7.306344844312462\n",
      "7.299582355067533\n"
     ]
    }
   ],
   "source": [
    "print(data[data['Item_Weight'] < 5]['log_sales'].mean())\n",
    "print(data[(data['Item_Weight'] >= 5) & (data['Item_Weight'] <= 10)]['log_sales'].mean())\n",
    "print(data[(data['Item_Weight'] >= 10) & (data['Item_Weight'] <= 15)]['log_sales'].mean())\n",
    "print(data[(data['Item_Weight'] >= 15) & (data['Item_Weight'] <= 25)]['log_sales'].mean())"
   ]
  },
  {
   "cell_type": "markdown",
   "metadata": {},
   "source": [
    "Even if we divide the weights into buckets, the sales are fairly distributed. Let us keep the feature for now. We may try training models with and without it."
   ]
  },
  {
   "cell_type": "markdown",
   "metadata": {},
   "source": [
    "## Outlet Size"
   ]
  },
  {
   "cell_type": "markdown",
   "metadata": {},
   "source": [
    "On the onset, Outlet Size may matter a lot while predicting sales. Intuitively, larger stores may sell more."
   ]
  },
  {
   "cell_type": "code",
   "execution_count": 23,
   "metadata": {},
   "outputs": [
    {
     "name": "stdout",
     "output_type": "stream",
     "text": [
      "# of NULL Values: 4016\n"
     ]
    }
   ],
   "source": [
    "print('# of NULL Values:',data['Outlet_Size'].isnull().sum())"
   ]
  },
  {
   "cell_type": "markdown",
   "metadata": {},
   "source": [
    "This is huge ! We do not want to lose out on so many values. Let us borrow a leaf from Item_Weights book. Since this is a categorical variable, let us check the mode of Outlet Size for each type in Outlet_Type. We can also check the individual splits to make sure Outlet_Type is the right variable w pivot to impute for Outlet_Size"
   ]
  },
  {
   "cell_type": "code",
   "execution_count": 24,
   "metadata": {},
   "outputs": [
    {
     "data": {
      "text/html": [
       "<div>\n",
       "<style scoped>\n",
       "    .dataframe tbody tr th:only-of-type {\n",
       "        vertical-align: middle;\n",
       "    }\n",
       "\n",
       "    .dataframe tbody tr th {\n",
       "        vertical-align: top;\n",
       "    }\n",
       "\n",
       "    .dataframe thead th {\n",
       "        text-align: right;\n",
       "    }\n",
       "</style>\n",
       "<table border=\"1\" class=\"dataframe\">\n",
       "  <thead>\n",
       "    <tr style=\"text-align: right;\">\n",
       "      <th></th>\n",
       "      <th>Outlet_Size</th>\n",
       "    </tr>\n",
       "    <tr>\n",
       "      <th>Outlet_Type</th>\n",
       "      <th></th>\n",
       "    </tr>\n",
       "  </thead>\n",
       "  <tbody>\n",
       "    <tr>\n",
       "      <th>Grocery Store</th>\n",
       "      <td>([Small], [880])</td>\n",
       "    </tr>\n",
       "    <tr>\n",
       "      <th>Supermarket Type1</th>\n",
       "      <td>([Small], [3100])</td>\n",
       "    </tr>\n",
       "    <tr>\n",
       "      <th>Supermarket Type2</th>\n",
       "      <td>([Medium], [1546])</td>\n",
       "    </tr>\n",
       "    <tr>\n",
       "      <th>Supermarket Type3</th>\n",
       "      <td>([Medium], [1559])</td>\n",
       "    </tr>\n",
       "  </tbody>\n",
       "</table>\n",
       "</div>"
      ],
      "text/plain": [
       "                          Outlet_Size\n",
       "Outlet_Type                          \n",
       "Grocery Store        ([Small], [880])\n",
       "Supermarket Type1   ([Small], [3100])\n",
       "Supermarket Type2  ([Medium], [1546])\n",
       "Supermarket Type3  ([Medium], [1559])"
      ]
     },
     "execution_count": 24,
     "metadata": {},
     "output_type": "execute_result"
    }
   ],
   "source": [
    "data.pivot_table(index=\"Outlet_Type\", values=\"Outlet_Size\",aggfunc=mode)"
   ]
  },
  {
   "cell_type": "code",
   "execution_count": 25,
   "metadata": {},
   "outputs": [
    {
     "name": "stdout",
     "output_type": "stream",
     "text": [
      "Small    880\n",
      "Name: Outlet_Size, dtype: int64\n",
      "Small     3100\n",
      "High      1553\n",
      "Medium    1550\n",
      "Name: Outlet_Size, dtype: int64\n",
      "Medium    1546\n",
      "Name: Outlet_Size, dtype: int64\n",
      "Medium    1559\n",
      "Name: Outlet_Size, dtype: int64\n"
     ]
    }
   ],
   "source": [
    "print(data[data['Outlet_Type'] == \"Grocery Store\"][\"Outlet_Size\"].value_counts())\n",
    "print(data[data['Outlet_Type'] == \"Supermarket Type1\"][\"Outlet_Size\"].value_counts())\n",
    "print(data[data['Outlet_Type'] == \"Supermarket Type2\"][\"Outlet_Size\"].value_counts())\n",
    "print(data[data['Outlet_Type'] == \"Supermarket Type3\"][\"Outlet_Size\"].value_counts())"
   ]
  },
  {
   "cell_type": "markdown",
   "metadata": {},
   "source": [
    "Looks Great ! In fact its a perfect split for 3 of the four Outlet_Types. To be more clear, when Outlet_Type == Grocery Store, Outlet_Size is always Small and so on. We can use this to fill in the NaNs in Outlet_Size by checking the Outlet_Type."
   ]
  },
  {
   "cell_type": "code",
   "execution_count": 26,
   "metadata": {},
   "outputs": [],
   "source": [
    "missing_out_size = data['Outlet_Size'].isnull()"
   ]
  },
  {
   "cell_type": "code",
   "execution_count": 27,
   "metadata": {},
   "outputs": [],
   "source": [
    "def func1(x):\n",
    "    if x == 'Grocery Store' or x == 'Supermarket Type1':\n",
    "        return 'Small'\n",
    "    else:\n",
    "        return 'Medium'"
   ]
  },
  {
   "cell_type": "code",
   "execution_count": 28,
   "metadata": {},
   "outputs": [],
   "source": [
    "data.loc[missing_out_size,'Outlet_Size'] = data.loc[missing_out_size,'Outlet_Type'].apply(func1)"
   ]
  },
  {
   "cell_type": "code",
   "execution_count": 29,
   "metadata": {},
   "outputs": [
    {
     "name": "stdout",
     "output_type": "stream",
     "text": [
      "# of NULL Values: 0\n"
     ]
    }
   ],
   "source": [
    "print('# of NULL Values:',data['Outlet_Size'].isnull().sum())"
   ]
  },
  {
   "cell_type": "code",
   "execution_count": 30,
   "metadata": {},
   "outputs": [
    {
     "data": {
      "text/plain": [
       "Small     7996\n",
       "Medium    4655\n",
       "High      1553\n",
       "Name: Outlet_Size, dtype: int64"
      ]
     },
     "execution_count": 30,
     "metadata": {},
     "output_type": "execute_result"
    }
   ],
   "source": [
    "data['Outlet_Size'].value_counts()"
   ]
  },
  {
   "cell_type": "code",
   "execution_count": 31,
   "metadata": {},
   "outputs": [
    {
     "data": {
      "text/plain": [
       "<matplotlib.axes._subplots.AxesSubplot at 0x7f14bf28c048>"
      ]
     },
     "execution_count": 31,
     "metadata": {},
     "output_type": "execute_result"
    },
    {
     "data": {
      "image/png": "[encoded data removed]",
      "text/plain": [
       "<matplotlib.figure.Figure at 0x7f14c2e7f438>"
      ]
     },
     "metadata": {},
     "output_type": "display_data"
    }
   ],
   "source": [
    "data['Outlet_Size'].value_counts().plot(kind='bar')"
   ]
  },
  {
   "cell_type": "markdown",
   "metadata": {},
   "source": [
    "It seems most of the stores are small and medium"
   ]
  },
  {
   "cell_type": "code",
   "execution_count": 32,
   "metadata": {},
   "outputs": [
    {
     "data": {
      "text/html": [
       "<div>\n",
       "<style scoped>\n",
       "    .dataframe tbody tr th:only-of-type {\n",
       "        vertical-align: middle;\n",
       "    }\n",
       "\n",
       "    .dataframe tbody tr th {\n",
       "        vertical-align: top;\n",
       "    }\n",
       "\n",
       "    .dataframe thead th {\n",
       "        text-align: right;\n",
       "    }\n",
       "</style>\n",
       "<table border=\"1\" class=\"dataframe\">\n",
       "  <thead>\n",
       "    <tr style=\"text-align: right;\">\n",
       "      <th></th>\n",
       "      <th>Item_Outlet_Sales</th>\n",
       "      <th>log_sales</th>\n",
       "    </tr>\n",
       "    <tr>\n",
       "      <th>Outlet_Size</th>\n",
       "      <th></th>\n",
       "      <th></th>\n",
       "    </tr>\n",
       "  </thead>\n",
       "  <tbody>\n",
       "    <tr>\n",
       "      <th>High</th>\n",
       "      <td>2298.995256</td>\n",
       "      <td>7.475972</td>\n",
       "    </tr>\n",
       "    <tr>\n",
       "      <th>Medium</th>\n",
       "      <td>2681.603542</td>\n",
       "      <td>7.630472</td>\n",
       "    </tr>\n",
       "    <tr>\n",
       "      <th>Small</th>\n",
       "      <td>1867.182814</td>\n",
       "      <td>7.069649</td>\n",
       "    </tr>\n",
       "  </tbody>\n",
       "</table>\n",
       "</div>"
      ],
      "text/plain": [
       "             Item_Outlet_Sales  log_sales\n",
       "Outlet_Size                              \n",
       "High               2298.995256   7.475972\n",
       "Medium             2681.603542   7.630472\n",
       "Small              1867.182814   7.069649"
      ]
     },
     "execution_count": 32,
     "metadata": {},
     "output_type": "execute_result"
    }
   ],
   "source": [
    "data.pivot_table(values=['Item_Outlet_Sales','log_sales'], index='Outlet_Size')"
   ]
  },
  {
   "cell_type": "markdown",
   "metadata": {},
   "source": [
    "This is key. Oulet Size like we assumed is a good indicator of the number of sales. In fact it is the medium sized stores that make the highest average sales followed by large and then small."
   ]
  },
  {
   "cell_type": "markdown",
   "metadata": {},
   "source": [
    "## Outlet Type"
   ]
  },
  {
   "cell_type": "markdown",
   "metadata": {},
   "source": [
    "Like its predecessor, I expect outlet type to describe our sales well. Only one way to find out"
   ]
  },
  {
   "cell_type": "code",
   "execution_count": 33,
   "metadata": {},
   "outputs": [
    {
     "name": "stdout",
     "output_type": "stream",
     "text": [
      "# of NULL Values: 0\n"
     ]
    }
   ],
   "source": [
    "print('# of NULL Values:',data['Outlet_Type'].isnull().sum())"
   ]
  },
  {
   "cell_type": "code",
   "execution_count": 34,
   "metadata": {},
   "outputs": [
    {
     "data": {
      "text/plain": [
       "Supermarket Type1    9294\n",
       "Grocery Store        1805\n",
       "Supermarket Type3    1559\n",
       "Supermarket Type2    1546\n",
       "Name: Outlet_Type, dtype: int64"
      ]
     },
     "execution_count": 34,
     "metadata": {},
     "output_type": "execute_result"
    }
   ],
   "source": [
    "data['Outlet_Type'].value_counts()"
   ]
  },
  {
   "cell_type": "code",
   "execution_count": 35,
   "metadata": {},
   "outputs": [
    {
     "data": {
      "text/html": [
       "<div>\n",
       "<style scoped>\n",
       "    .dataframe tbody tr th:only-of-type {\n",
       "        vertical-align: middle;\n",
       "    }\n",
       "\n",
       "    .dataframe tbody tr th {\n",
       "        vertical-align: top;\n",
       "    }\n",
       "\n",
       "    .dataframe thead th {\n",
       "        text-align: right;\n",
       "    }\n",
       "</style>\n",
       "<table border=\"1\" class=\"dataframe\">\n",
       "  <thead>\n",
       "    <tr style=\"text-align: right;\">\n",
       "      <th></th>\n",
       "      <th>Item_Outlet_Sales</th>\n",
       "      <th>log_sales</th>\n",
       "    </tr>\n",
       "    <tr>\n",
       "      <th>Outlet_Type</th>\n",
       "      <th></th>\n",
       "      <th></th>\n",
       "    </tr>\n",
       "  </thead>\n",
       "  <tbody>\n",
       "    <tr>\n",
       "      <th>Grocery Store</th>\n",
       "      <td>339.828500</td>\n",
       "      <td>5.551226</td>\n",
       "    </tr>\n",
       "    <tr>\n",
       "      <th>Supermarket Type1</th>\n",
       "      <td>2316.181148</td>\n",
       "      <td>7.509277</td>\n",
       "    </tr>\n",
       "    <tr>\n",
       "      <th>Supermarket Type2</th>\n",
       "      <td>1995.498739</td>\n",
       "      <td>7.332110</td>\n",
       "    </tr>\n",
       "    <tr>\n",
       "      <th>Supermarket Type3</th>\n",
       "      <td>3694.038558</td>\n",
       "      <td>8.025963</td>\n",
       "    </tr>\n",
       "  </tbody>\n",
       "</table>\n",
       "</div>"
      ],
      "text/plain": [
       "                   Item_Outlet_Sales  log_sales\n",
       "Outlet_Type                                    \n",
       "Grocery Store             339.828500   5.551226\n",
       "Supermarket Type1        2316.181148   7.509277\n",
       "Supermarket Type2        1995.498739   7.332110\n",
       "Supermarket Type3        3694.038558   8.025963"
      ]
     },
     "execution_count": 35,
     "metadata": {},
     "output_type": "execute_result"
    }
   ],
   "source": [
    "data.pivot_table(values=['Item_Outlet_Sales','log_sales'], index='Outlet_Type')"
   ]
  },
  {
   "cell_type": "markdown",
   "metadata": {},
   "source": [
    "Short and sweet. No missing values. Types are good distinguishers of the amount of sales to expect. Grocery Store amount for the lowest sales. Remember, they are all small shops and going by the name, may sell limited items. ."
   ]
  },
  {
   "cell_type": "markdown",
   "metadata": {},
   "source": [
    "It would be interesting to check the correlation between Outlet_Type and Outlet_Size. If they are highly correlated, it makes little sense to use both features in our model."
   ]
  },
  {
   "cell_type": "markdown",
   "metadata": {},
   "source": [
    "## Outlet Location Type"
   ]
  },
  {
   "cell_type": "markdown",
   "metadata": {},
   "source": [
    "We may get to analyze the buying patterns for stores in different tier cities. One may assume that people in bigger cities have greater purchasing power and may account for greater sales. However, bigger cities also offer greater Store competetion and people may choose to buy from stores other than Big Mart. "
   ]
  },
  {
   "cell_type": "code",
   "execution_count": 36,
   "metadata": {},
   "outputs": [
    {
     "name": "stdout",
     "output_type": "stream",
     "text": [
      "# of NULL Values: 0\n"
     ]
    }
   ],
   "source": [
    "print('# of NULL Values:',data['Outlet_Location_Type'].isnull().sum())"
   ]
  },
  {
   "cell_type": "code",
   "execution_count": 37,
   "metadata": {},
   "outputs": [
    {
     "data": {
      "text/plain": [
       "Tier 3    5583\n",
       "Tier 2    4641\n",
       "Tier 1    3980\n",
       "Name: Outlet_Location_Type, dtype: int64"
      ]
     },
     "execution_count": 37,
     "metadata": {},
     "output_type": "execute_result"
    }
   ],
   "source": [
    "data['Outlet_Location_Type'].value_counts()"
   ]
  },
  {
   "cell_type": "code",
   "execution_count": 38,
   "metadata": {},
   "outputs": [
    {
     "data": {
      "text/plain": [
       "<matplotlib.axes._subplots.AxesSubplot at 0x7f14bf57d518>"
      ]
     },
     "execution_count": 38,
     "metadata": {},
     "output_type": "execute_result"
    },
    {
     "data": {
      "image/png": "[encoded data removed]",
      "text/plain": [
       "<matplotlib.figure.Figure at 0x7f14bf477470>"
      ]
     },
     "metadata": {},
     "output_type": "display_data"
    }
   ],
   "source": [
    "data['Outlet_Location_Type'].value_counts().plot(kind='bar')"
   ]
  },
  {
   "cell_type": "markdown",
   "metadata": {},
   "source": [
    "Nice to see that the penetration of markets in smaller cities is greater than bigger cities. Big Mart may be thinking along the lines of out latter assumption."
   ]
  },
  {
   "cell_type": "code",
   "execution_count": 39,
   "metadata": {},
   "outputs": [
    {
     "data": {
      "text/html": [
       "<div>\n",
       "<style scoped>\n",
       "    .dataframe tbody tr th:only-of-type {\n",
       "        vertical-align: middle;\n",
       "    }\n",
       "\n",
       "    .dataframe tbody tr th {\n",
       "        vertical-align: top;\n",
       "    }\n",
       "\n",
       "    .dataframe thead th {\n",
       "        text-align: right;\n",
       "    }\n",
       "</style>\n",
       "<table border=\"1\" class=\"dataframe\">\n",
       "  <thead>\n",
       "    <tr style=\"text-align: right;\">\n",
       "      <th></th>\n",
       "      <th>Item_Outlet_Sales</th>\n",
       "      <th>log_sales</th>\n",
       "    </tr>\n",
       "    <tr>\n",
       "      <th>Outlet_Location_Type</th>\n",
       "      <th></th>\n",
       "      <th></th>\n",
       "    </tr>\n",
       "  </thead>\n",
       "  <tbody>\n",
       "    <tr>\n",
       "      <th>Tier 1</th>\n",
       "      <td>1876.909159</td>\n",
       "      <td>7.083557</td>\n",
       "    </tr>\n",
       "    <tr>\n",
       "      <th>Tier 2</th>\n",
       "      <td>2323.990559</td>\n",
       "      <td>7.516337</td>\n",
       "    </tr>\n",
       "    <tr>\n",
       "      <th>Tier 3</th>\n",
       "      <td>2279.627651</td>\n",
       "      <td>7.269002</td>\n",
       "    </tr>\n",
       "  </tbody>\n",
       "</table>\n",
       "</div>"
      ],
      "text/plain": [
       "                      Item_Outlet_Sales  log_sales\n",
       "Outlet_Location_Type                              \n",
       "Tier 1                      1876.909159   7.083557\n",
       "Tier 2                      2323.990559   7.516337\n",
       "Tier 3                      2279.627651   7.269002"
      ]
     },
     "execution_count": 39,
     "metadata": {},
     "output_type": "execute_result"
    }
   ],
   "source": [
    "data.pivot_table(values=['Item_Outlet_Sales','log_sales'], index='Outlet_Location_Type')"
   ]
  },
  {
   "cell_type": "markdown",
   "metadata": {},
   "source": [
    "Our latter assumption may indeed be right. Tier 2 and 3 cities account for greater sales as compared to tier 1. This categorical split may help our model generaliz better."
   ]
  },
  {
   "cell_type": "markdown",
   "metadata": {},
   "source": [
    "## Item Visibility"
   ]
  },
  {
   "cell_type": "markdown",
   "metadata": {},
   "source": [
    "This is a tricky feature. It accounts for the percentage visibility given to a particular product in a particular store. We may need to do some feature engineering to make better use of this feature."
   ]
  },
  {
   "cell_type": "code",
   "execution_count": 40,
   "metadata": {},
   "outputs": [
    {
     "name": "stdout",
     "output_type": "stream",
     "text": [
      "# of NULL Values: 0\n"
     ]
    }
   ],
   "source": [
    "print('# of NULL Values:',data['Item_Visibility'].isnull().sum())"
   ]
  },
  {
   "cell_type": "code",
   "execution_count": 41,
   "metadata": {},
   "outputs": [
    {
     "data": {
      "text/plain": [
       "count    14204.000000\n",
       "mean         0.065953\n",
       "std          0.051459\n",
       "min          0.000000\n",
       "25%          0.027036\n",
       "50%          0.054021\n",
       "75%          0.094037\n",
       "max          0.328391\n",
       "Name: Item_Visibility, dtype: float64"
      ]
     },
     "execution_count": 41,
     "metadata": {},
     "output_type": "execute_result"
    }
   ],
   "source": [
    "data['Item_Visibility'].describe()"
   ]
  },
  {
   "cell_type": "code",
   "execution_count": 42,
   "metadata": {},
   "outputs": [
    {
     "name": "stdout",
     "output_type": "stream",
     "text": [
      "# of Zero values: 879\n"
     ]
    }
   ],
   "source": [
    "print('# of Zero values:',data[data['Item_Visibility'] == 0].shape[0])"
   ]
  },
  {
   "cell_type": "markdown",
   "metadata": {},
   "source": [
    "A lot of our items have zero visibility. Which seems impractical. Store keepers may have missed filling out some and they may have defaulted to zero. We can replace them with the average visibility a particular product has across storesfor a more accurate assessment than zero. It must be noted that the visibility may differ considerably across stores but an average can still describe it better."
   ]
  },
  {
   "cell_type": "code",
   "execution_count": 43,
   "metadata": {},
   "outputs": [
    {
     "data": {
      "text/html": [
       "<div>\n",
       "<style scoped>\n",
       "    .dataframe tbody tr th:only-of-type {\n",
       "        vertical-align: middle;\n",
       "    }\n",
       "\n",
       "    .dataframe tbody tr th {\n",
       "        vertical-align: top;\n",
       "    }\n",
       "\n",
       "    .dataframe thead th {\n",
       "        text-align: right;\n",
       "    }\n",
       "</style>\n",
       "<table border=\"1\" class=\"dataframe\">\n",
       "  <thead>\n",
       "    <tr style=\"text-align: right;\">\n",
       "      <th></th>\n",
       "      <th>Item_Visibility</th>\n",
       "    </tr>\n",
       "    <tr>\n",
       "      <th>Item_Identifier</th>\n",
       "      <th></th>\n",
       "    </tr>\n",
       "  </thead>\n",
       "  <tbody>\n",
       "    <tr>\n",
       "      <th>DRA12</th>\n",
       "      <td>0.034938</td>\n",
       "    </tr>\n",
       "    <tr>\n",
       "      <th>DRA24</th>\n",
       "      <td>0.045646</td>\n",
       "    </tr>\n",
       "    <tr>\n",
       "      <th>DRA59</th>\n",
       "      <td>0.133384</td>\n",
       "    </tr>\n",
       "    <tr>\n",
       "      <th>DRB01</th>\n",
       "      <td>0.079736</td>\n",
       "    </tr>\n",
       "    <tr>\n",
       "      <th>DRB13</th>\n",
       "      <td>0.006799</td>\n",
       "    </tr>\n",
       "  </tbody>\n",
       "</table>\n",
       "</div>"
      ],
      "text/plain": [
       "                 Item_Visibility\n",
       "Item_Identifier                 \n",
       "DRA12                   0.034938\n",
       "DRA24                   0.045646\n",
       "DRA59                   0.133384\n",
       "DRB01                   0.079736\n",
       "DRB13                   0.006799"
      ]
     },
     "execution_count": 43,
     "metadata": {},
     "output_type": "execute_result"
    }
   ],
   "source": [
    "vis_pivot_table = data.pivot_table(values='Item_Visibility', index='Item_Identifier')\n",
    "vis_pivot_table.head()"
   ]
  },
  {
   "cell_type": "code",
   "execution_count": 44,
   "metadata": {},
   "outputs": [],
   "source": [
    "zero_vis = data['Item_Visibility'] == 0\n",
    "data.loc[zero_vis,\"Item_Visibility\"] = data.loc[zero_vis,\"Item_Identifier\"].apply(lambda x: vis_pivot_table.loc[x])"
   ]
  },
  {
   "cell_type": "code",
   "execution_count": 45,
   "metadata": {},
   "outputs": [
    {
     "name": "stdout",
     "output_type": "stream",
     "text": [
      "# of Zero values: 0\n"
     ]
    }
   ],
   "source": [
    "print('# of Zero values:',data[data['Item_Visibility'] == 0].shape[0])"
   ]
  },
  {
   "cell_type": "code",
   "execution_count": 46,
   "metadata": {},
   "outputs": [
    {
     "name": "stdout",
     "output_type": "stream",
     "text": [
      "1849.5055994074096\n",
      "2275.1595210294145\n",
      "2291.5412055055554\n"
     ]
    }
   ],
   "source": [
    "print(data[data['Item_Visibility']>0.1]['Item_Outlet_Sales'].mean())\n",
    "print(data[(data['Item_Visibility']>0.05) & (data['Item_Visibility']<0.1)]['Item_Outlet_Sales'].mean())\n",
    "print(data[(data['Item_Visibility']>0) & (data['Item_Visibility']<0.05)]['Item_Outlet_Sales'].mean())"
   ]
  },
  {
   "cell_type": "markdown",
   "metadata": {},
   "source": [
    "Let us check the average sales in differet bands of visibility. This looks highly counter-intuitive. It seems that those items with lesser visibility has been selling out greater than that with greater. Maybe its because of the amount of data in my assumed bands."
   ]
  },
  {
   "cell_type": "markdown",
   "metadata": {},
   "source": [
    "Also, it also makes more sense to incorporate the visbility of a product with respect to the average visibility across stores to have greater unbiasedness. For instance, item A may be selling out more in store X as it is more visbile. It does not necessarily mean that the Item is in greater demand. A ratio would be more representative."
   ]
  },
  {
   "cell_type": "code",
   "execution_count": 47,
   "metadata": {},
   "outputs": [],
   "source": [
    "data['Item_Visibility_Ratio'] = data.apply(lambda x: x['Item_Visibility']/vis_pivot_table.loc[x['Item_Identifier']], axis=1)"
   ]
  },
  {
   "cell_type": "code",
   "execution_count": 48,
   "metadata": {},
   "outputs": [
    {
     "data": {
      "text/plain": [
       "count    14204.000000\n",
       "mean         1.061884\n",
       "std          0.235907\n",
       "min          0.844563\n",
       "25%          0.925131\n",
       "50%          0.999070\n",
       "75%          1.042007\n",
       "max          3.010094\n",
       "Name: Item_Visibility_Ratio, dtype: float64"
      ]
     },
     "execution_count": 48,
     "metadata": {},
     "output_type": "execute_result"
    }
   ],
   "source": [
    "data['Item_Visibility_Ratio'].describe()"
   ]
  },
  {
   "cell_type": "code",
   "execution_count": 49,
   "metadata": {},
   "outputs": [
    {
     "name": "stdout",
     "output_type": "stream",
     "text": [
      "2464.8973582890194\n",
      "1857.8309417400867\n",
      "343.6193799999999\n"
     ]
    }
   ],
   "source": [
    "print(data[data['Item_Visibility_Ratio'] < 1]['Item_Outlet_Sales'].mean())\n",
    "print(data[(data['Item_Visibility_Ratio']>1) & (data['Item_Visibility_Ratio']<2)]['Item_Outlet_Sales'].mean())\n",
    "print(data[(data['Item_Visibility_Ratio']>2)]['Item_Outlet_Sales'].mean())"
   ]
  },
  {
   "cell_type": "markdown",
   "metadata": {},
   "source": [
    "There seems to be a much greater split when we use the engineered ratio. This would help make the model better."
   ]
  },
  {
   "cell_type": "code",
   "execution_count": 50,
   "metadata": {},
   "outputs": [
    {
     "data": {
      "text/plain": [
       "<matplotlib.axes._subplots.AxesSubplot at 0x7f14bc51e780>"
      ]
     },
     "execution_count": 50,
     "metadata": {},
     "output_type": "execute_result"
    },
    {
     "data": {
      "image/png": "[encoded data removed]",
      "text/plain": [
       "<matplotlib.figure.Figure at 0x7f14bf3602e8>"
      ]
     },
     "metadata": {},
     "output_type": "display_data"
    }
   ],
   "source": [
    "fig, ax = plt.subplots(1,2,figsize=(10,5))\n",
    "sns.scatterplot(data['Item_Visibility_Ratio'], data['Item_Outlet_Sales'], ax=ax[0])\n",
    "sns.scatterplot(data['Item_Visibility_Ratio'], data['log_sales'], ax=ax[1])"
   ]
  },
  {
   "cell_type": "markdown",
   "metadata": {},
   "source": [
    "However, there isnt a distinctive correlation trend with respect to the dependent variables."
   ]
  },
  {
   "cell_type": "markdown",
   "metadata": {},
   "source": [
    "## Item Type"
   ]
  },
  {
   "cell_type": "markdown",
   "metadata": {},
   "source": [
    "The type of Item may present to be a big factor in the Items sold. Let us look at the different types of goods and the units sold"
   ]
  },
  {
   "cell_type": "code",
   "execution_count": 51,
   "metadata": {},
   "outputs": [
    {
     "name": "stdout",
     "output_type": "stream",
     "text": [
      "# of NULL Values: 0\n"
     ]
    }
   ],
   "source": [
    "print('# of NULL Values:',data['Item_Type'].isnull().sum())"
   ]
  },
  {
   "cell_type": "code",
   "execution_count": 52,
   "metadata": {},
   "outputs": [
    {
     "data": {
      "text/plain": [
       "Fruits and Vegetables    2013\n",
       "Snack Foods              1989\n",
       "Household                1548\n",
       "Frozen Foods             1426\n",
       "Dairy                    1136\n",
       "Baking Goods             1086\n",
       "Canned                   1084\n",
       "Health and Hygiene        858\n",
       "Meat                      736\n",
       "Soft Drinks               726\n",
       "Breads                    416\n",
       "Hard Drinks               362\n",
       "Others                    280\n",
       "Starchy Foods             269\n",
       "Breakfast                 186\n",
       "Seafood                    89\n",
       "Name: Item_Type, dtype: int64"
      ]
     },
     "execution_count": 52,
     "metadata": {},
     "output_type": "execute_result"
    }
   ],
   "source": [
    "data['Item_Type'].value_counts()"
   ]
  },
  {
   "cell_type": "code",
   "execution_count": 53,
   "metadata": {},
   "outputs": [
    {
     "data": {
      "text/plain": [
       "<matplotlib.axes._subplots.AxesSubplot at 0x7f14bcbb0198>"
      ]
     },
     "execution_count": 53,
     "metadata": {},
     "output_type": "execute_result"
    },
    {
     "data": {
      "image/png": "[encoded data removed]",
      "text/plain": [
       "<matplotlib.figure.Figure at 0x7f14bcbb0278>"
      ]
     },
     "metadata": {},
     "output_type": "display_data"
    }
   ],
   "source": [
    "data.pivot_table(values='Item_Outlet_Sales', index='Item_Type').plot(kind='bar')"
   ]
  },
  {
   "cell_type": "markdown",
   "metadata": {},
   "source": [
    "It seems there are a lot if categories in the Item_Type feature. Whsts worse is that there is almost a uniform amount of sales when it comes to each category. Perhaps we can find a more general Item Type to classify them into."
   ]
  },
  {
   "cell_type": "markdown",
   "metadata": {},
   "source": [
    "Upon Inspection, it seems that the Item_Identifier feature has a code that the first two charecters represent a particular category. "
   ]
  },
  {
   "cell_type": "code",
   "execution_count": 54,
   "metadata": {},
   "outputs": [
    {
     "data": {
      "text/plain": [
       "0    FDA15\n",
       "1    DRC01\n",
       "2    FDN15\n",
       "3    FDX07\n",
       "4    NCD19\n",
       "Name: Item_Identifier, dtype: object"
      ]
     },
     "execution_count": 54,
     "metadata": {},
     "output_type": "execute_result"
    }
   ],
   "source": [
    "data['Item_Identifier'].head()"
   ]
  },
  {
   "cell_type": "code",
   "execution_count": 55,
   "metadata": {},
   "outputs": [],
   "source": [
    "data['Item_Cat'] = data['Item_Identifier'].apply(lambda x: x[:2])"
   ]
  },
  {
   "cell_type": "markdown",
   "metadata": {},
   "source": [
    "Let us extract those characters and store them into Item_Cat. The three types correspond to Drink, Food, Non Consummable"
   ]
  },
  {
   "cell_type": "code",
   "execution_count": 56,
   "metadata": {},
   "outputs": [
    {
     "data": {
      "text/html": [
       "<div>\n",
       "<style scoped>\n",
       "    .dataframe tbody tr th:only-of-type {\n",
       "        vertical-align: middle;\n",
       "    }\n",
       "\n",
       "    .dataframe tbody tr th {\n",
       "        vertical-align: top;\n",
       "    }\n",
       "\n",
       "    .dataframe thead th {\n",
       "        text-align: right;\n",
       "    }\n",
       "</style>\n",
       "<table border=\"1\" class=\"dataframe\">\n",
       "  <thead>\n",
       "    <tr style=\"text-align: right;\">\n",
       "      <th></th>\n",
       "      <th>Item_Outlet_Sales</th>\n",
       "      <th>log_sales</th>\n",
       "    </tr>\n",
       "    <tr>\n",
       "      <th>Item_Cat</th>\n",
       "      <th></th>\n",
       "      <th></th>\n",
       "    </tr>\n",
       "  </thead>\n",
       "  <tbody>\n",
       "    <tr>\n",
       "      <th>DR</th>\n",
       "      <td>1997.333337</td>\n",
       "      <td>7.199265</td>\n",
       "    </tr>\n",
       "    <tr>\n",
       "      <th>FD</th>\n",
       "      <td>2215.354223</td>\n",
       "      <td>7.313369</td>\n",
       "    </tr>\n",
       "    <tr>\n",
       "      <th>NC</th>\n",
       "      <td>2142.721364</td>\n",
       "      <td>7.287737</td>\n",
       "    </tr>\n",
       "  </tbody>\n",
       "</table>\n",
       "</div>"
      ],
      "text/plain": [
       "          Item_Outlet_Sales  log_sales\n",
       "Item_Cat                              \n",
       "DR              1997.333337   7.199265\n",
       "FD              2215.354223   7.313369\n",
       "NC              2142.721364   7.287737"
      ]
     },
     "execution_count": 56,
     "metadata": {},
     "output_type": "execute_result"
    }
   ],
   "source": [
    "data.pivot_table(values=['Item_Outlet_Sales','log_sales'], index='Item_Cat')"
   ]
  },
  {
   "cell_type": "markdown",
   "metadata": {},
   "source": [
    "## Fat Content"
   ]
  },
  {
   "cell_type": "code",
   "execution_count": 57,
   "metadata": {},
   "outputs": [
    {
     "name": "stdout",
     "output_type": "stream",
     "text": [
      "# of NULL Values: 0\n"
     ]
    }
   ],
   "source": [
    "print('# of NULL Values:',data['Item_Fat_Content'].isnull().sum())"
   ]
  },
  {
   "cell_type": "code",
   "execution_count": 58,
   "metadata": {},
   "outputs": [
    {
     "data": {
      "text/plain": [
       "Low Fat    8485\n",
       "Regular    4824\n",
       "LF          522\n",
       "reg         195\n",
       "low fat     178\n",
       "Name: Item_Fat_Content, dtype: int64"
      ]
     },
     "execution_count": 58,
     "metadata": {},
     "output_type": "execute_result"
    }
   ],
   "source": [
    "data['Item_Fat_Content'].value_counts()"
   ]
  },
  {
   "cell_type": "markdown",
   "metadata": {},
   "source": [
    "First, lets clean up the feature a little and merge repeat categories"
   ]
  },
  {
   "cell_type": "code",
   "execution_count": 59,
   "metadata": {},
   "outputs": [],
   "source": [
    "data['Item_Fat_Content'] = data['Item_Fat_Content'].replace({\n",
    "    \"LF\":\"Low Fat\",\n",
    "    \"reg\":\"Regular\",\n",
    "    \"low fat\":\"Low Fat\"\n",
    "})"
   ]
  },
  {
   "cell_type": "code",
   "execution_count": 60,
   "metadata": {},
   "outputs": [
    {
     "data": {
      "text/plain": [
       "Low Fat    9185\n",
       "Regular    5019\n",
       "Name: Item_Fat_Content, dtype: int64"
      ]
     },
     "execution_count": 60,
     "metadata": {},
     "output_type": "execute_result"
    }
   ],
   "source": [
    "data['Item_Fat_Content'].value_counts()"
   ]
  },
  {
   "cell_type": "code",
   "execution_count": 61,
   "metadata": {},
   "outputs": [
    {
     "data": {
      "text/plain": [
       "(2686,)"
      ]
     },
     "execution_count": 61,
     "metadata": {},
     "output_type": "execute_result"
    }
   ],
   "source": [
    "data.loc[data[\"Item_Cat\"] == \"NC\",\"Item_Fat_Content\"].shape"
   ]
  },
  {
   "cell_type": "markdown",
   "metadata": {},
   "source": [
    "Also, it seems a lot of Non-Consumable type items are classified as either of low fat or regular. Lets create a third category to demarcate that it is neither"
   ]
  },
  {
   "cell_type": "code",
   "execution_count": 62,
   "metadata": {},
   "outputs": [],
   "source": [
    "data.loc[data[\"Item_Cat\"] == \"NC\",\"Item_Fat_Content\"] = \"Non-Edible\""
   ]
  },
  {
   "cell_type": "code",
   "execution_count": 63,
   "metadata": {},
   "outputs": [
    {
     "data": {
      "text/plain": [
       "Low Fat       6499\n",
       "Regular       5019\n",
       "Non-Edible    2686\n",
       "Name: Item_Fat_Content, dtype: int64"
      ]
     },
     "execution_count": 63,
     "metadata": {},
     "output_type": "execute_result"
    }
   ],
   "source": [
    "data[\"Item_Fat_Content\"].value_counts()"
   ]
  },
  {
   "cell_type": "code",
   "execution_count": 64,
   "metadata": {},
   "outputs": [
    {
     "data": {
      "text/html": [
       "<div>\n",
       "<style scoped>\n",
       "    .dataframe tbody tr th:only-of-type {\n",
       "        vertical-align: middle;\n",
       "    }\n",
       "\n",
       "    .dataframe tbody tr th {\n",
       "        vertical-align: top;\n",
       "    }\n",
       "\n",
       "    .dataframe thead th {\n",
       "        text-align: right;\n",
       "    }\n",
       "</style>\n",
       "<table border=\"1\" class=\"dataframe\">\n",
       "  <thead>\n",
       "    <tr style=\"text-align: right;\">\n",
       "      <th></th>\n",
       "      <th>Item_Outlet_Sales</th>\n",
       "      <th>log_sales</th>\n",
       "    </tr>\n",
       "    <tr>\n",
       "      <th>Item_Fat_Content</th>\n",
       "      <th></th>\n",
       "      <th></th>\n",
       "    </tr>\n",
       "  </thead>\n",
       "  <tbody>\n",
       "    <tr>\n",
       "      <th>Low Fat</th>\n",
       "      <td>2163.829268</td>\n",
       "      <td>7.289003</td>\n",
       "    </tr>\n",
       "    <tr>\n",
       "      <th>Non-Edible</th>\n",
       "      <td>2142.721364</td>\n",
       "      <td>7.287737</td>\n",
       "    </tr>\n",
       "    <tr>\n",
       "      <th>Regular</th>\n",
       "      <td>2224.561170</td>\n",
       "      <td>7.314798</td>\n",
       "    </tr>\n",
       "  </tbody>\n",
       "</table>\n",
       "</div>"
      ],
      "text/plain": [
       "                  Item_Outlet_Sales  log_sales\n",
       "Item_Fat_Content                              \n",
       "Low Fat                 2163.829268   7.289003\n",
       "Non-Edible              2142.721364   7.287737\n",
       "Regular                 2224.561170   7.314798"
      ]
     },
     "execution_count": 64,
     "metadata": {},
     "output_type": "execute_result"
    }
   ],
   "source": [
    "data.pivot_table(values=['Item_Outlet_Sales','log_sales'], index='Item_Fat_Content')"
   ]
  },
  {
   "cell_type": "markdown",
   "metadata": {},
   "source": [
    "## Item Max Retail Price"
   ]
  },
  {
   "cell_type": "markdown",
   "metadata": {},
   "source": [
    "Price may be an indicator to suggest the number of sales. Let us see the relationship it holds with the dependent variables."
   ]
  },
  {
   "cell_type": "code",
   "execution_count": 65,
   "metadata": {},
   "outputs": [
    {
     "name": "stdout",
     "output_type": "stream",
     "text": [
      "# of NULL Values: 0\n"
     ]
    }
   ],
   "source": [
    "print('# of NULL Values:',data['Item_MRP'].isnull().sum())"
   ]
  },
  {
   "cell_type": "code",
   "execution_count": 66,
   "metadata": {},
   "outputs": [
    {
     "data": {
      "text/plain": [
       "count    14204.000000\n",
       "mean       141.004977\n",
       "std         62.086938\n",
       "min         31.290000\n",
       "25%         94.012000\n",
       "50%        142.247000\n",
       "75%        185.855600\n",
       "max        266.888400\n",
       "Name: Item_MRP, dtype: float64"
      ]
     },
     "execution_count": 66,
     "metadata": {},
     "output_type": "execute_result"
    }
   ],
   "source": [
    "data['Item_MRP'].describe()"
   ]
  },
  {
   "cell_type": "code",
   "execution_count": 67,
   "metadata": {},
   "outputs": [
    {
     "data": {
      "text/plain": [
       "<matplotlib.axes._subplots.AxesSubplot at 0x7f14bd79cda0>"
      ]
     },
     "execution_count": 67,
     "metadata": {},
     "output_type": "execute_result"
    },
    {
     "data": {
      "image/png": "[encoded data removed]",
      "text/plain": [
       "<matplotlib.figure.Figure at 0x7f14bd79c6d8>"
      ]
     },
     "metadata": {},
     "output_type": "display_data"
    }
   ],
   "source": [
    "sns.distplot(data['Item_MRP'])"
   ]
  },
  {
   "cell_type": "code",
   "execution_count": 68,
   "metadata": {},
   "outputs": [
    {
     "data": {
      "text/plain": [
       "<matplotlib.axes._subplots.AxesSubplot at 0x7f14bc5360b8>"
      ]
     },
     "execution_count": 68,
     "metadata": {},
     "output_type": "execute_result"
    },
    {
     "data": {
      "image/png": "[encoded data removed]",
      "text/plain": [
       "<matplotlib.figure.Figure at 0x7f14bd79c7b8>"
      ]
     },
     "metadata": {},
     "output_type": "display_data"
    }
   ],
   "source": [
    "fig, ax = plt.subplots(1,2,figsize=(10,5))\n",
    "sns.scatterplot(data['Item_MRP'], data['Item_Outlet_Sales'], ax=ax[0])\n",
    "sns.scatterplot(data['Item_MRP'], data['log_sales'], ax=ax[1])"
   ]
  },
  {
   "cell_type": "markdown",
   "metadata": {},
   "source": [
    "There does seem to be some relationship between the price and the dependent variables"
   ]
  },
  {
   "cell_type": "markdown",
   "metadata": {},
   "source": [
    "## Establishment Year"
   ]
  },
  {
   "cell_type": "markdown",
   "metadata": {},
   "source": [
    "Should newer stores have greater sales ? It definitely does reflect on the performance of the management ? Lets see what the data tells us and weather this feature is important in predicting sales"
   ]
  },
  {
   "cell_type": "code",
   "execution_count": 69,
   "metadata": {},
   "outputs": [
    {
     "name": "stdout",
     "output_type": "stream",
     "text": [
      "# of NULL Values: 0\n"
     ]
    }
   ],
   "source": [
    "print('# of NULL Values:',data['Outlet_Establishment_Year'].isnull().sum())"
   ]
  },
  {
   "cell_type": "code",
   "execution_count": 70,
   "metadata": {},
   "outputs": [
    {
     "data": {
      "text/plain": [
       "Outlet_Establishment_Year\n",
       "1985    2483.677474\n",
       "1987    2298.995256\n",
       "1997    2277.844267\n",
       "1998     339.351662\n",
       "1999    2348.354635\n",
       "2002    2192.384798\n",
       "2004    2438.841866\n",
       "2007    2340.675263\n",
       "2009    1995.498739\n",
       "Name: Item_Outlet_Sales, dtype: float64"
      ]
     },
     "execution_count": 70,
     "metadata": {},
     "output_type": "execute_result"
    }
   ],
   "source": [
    "data.groupby(['Outlet_Establishment_Year'])['Item_Outlet_Sales'].mean()"
   ]
  },
  {
   "cell_type": "markdown",
   "metadata": {},
   "source": [
    "It certainly dosent look like there is a huge difference in the number of sales based on the newness of the store. However, lets keep a years_of_existence variable instead of year established as a smaller number can make the model converge faster in some algorithms"
   ]
  },
  {
   "cell_type": "code",
   "execution_count": 71,
   "metadata": {},
   "outputs": [],
   "source": [
    "data['Outlet_Establishment_Year'] = data['Outlet_Establishment_Year'].apply(lambda x: 2013 - x)"
   ]
  },
  {
   "cell_type": "markdown",
   "metadata": {},
   "source": [
    "## Outlet ID"
   ]
  },
  {
   "cell_type": "markdown",
   "metadata": {},
   "source": [
    "There can be stores that just outright make more sales. Lets see if our data tells us that and weather this information can help our model"
   ]
  },
  {
   "cell_type": "code",
   "execution_count": 72,
   "metadata": {},
   "outputs": [
    {
     "name": "stdout",
     "output_type": "stream",
     "text": [
      "# of NULL Values: 0\n"
     ]
    }
   ],
   "source": [
    "print('# of NULL Values:',data['Outlet_Identifier'].isnull().sum())"
   ]
  },
  {
   "cell_type": "code",
   "execution_count": 73,
   "metadata": {},
   "outputs": [
    {
     "data": {
      "text/plain": [
       "OUT027    1559\n",
       "OUT013    1553\n",
       "OUT035    1550\n",
       "OUT046    1550\n",
       "OUT049    1550\n",
       "OUT045    1548\n",
       "OUT018    1546\n",
       "OUT017    1543\n",
       "OUT010     925\n",
       "OUT019     880\n",
       "Name: Outlet_Identifier, dtype: int64"
      ]
     },
     "execution_count": 73,
     "metadata": {},
     "output_type": "execute_result"
    }
   ],
   "source": [
    "data[\"Outlet_Identifier\"].value_counts()"
   ]
  },
  {
   "cell_type": "code",
   "execution_count": 74,
   "metadata": {},
   "outputs": [
    {
     "data": {
      "text/html": [
       "<div>\n",
       "<style scoped>\n",
       "    .dataframe tbody tr th:only-of-type {\n",
       "        vertical-align: middle;\n",
       "    }\n",
       "\n",
       "    .dataframe tbody tr th {\n",
       "        vertical-align: top;\n",
       "    }\n",
       "\n",
       "    .dataframe thead th {\n",
       "        text-align: right;\n",
       "    }\n",
       "</style>\n",
       "<table border=\"1\" class=\"dataframe\">\n",
       "  <thead>\n",
       "    <tr style=\"text-align: right;\">\n",
       "      <th></th>\n",
       "      <th>Item_Outlet_Sales</th>\n",
       "      <th>log_sales</th>\n",
       "    </tr>\n",
       "    <tr>\n",
       "      <th>Outlet_Identifier</th>\n",
       "      <th></th>\n",
       "      <th></th>\n",
       "    </tr>\n",
       "  </thead>\n",
       "  <tbody>\n",
       "    <tr>\n",
       "      <th>OUT010</th>\n",
       "      <td>339.351662</td>\n",
       "      <td>5.540678</td>\n",
       "    </tr>\n",
       "    <tr>\n",
       "      <th>OUT013</th>\n",
       "      <td>2298.995256</td>\n",
       "      <td>7.475972</td>\n",
       "    </tr>\n",
       "    <tr>\n",
       "      <th>OUT017</th>\n",
       "      <td>2340.675263</td>\n",
       "      <td>7.518112</td>\n",
       "    </tr>\n",
       "    <tr>\n",
       "      <th>OUT018</th>\n",
       "      <td>1995.498739</td>\n",
       "      <td>7.332110</td>\n",
       "    </tr>\n",
       "    <tr>\n",
       "      <th>OUT019</th>\n",
       "      <td>340.329723</td>\n",
       "      <td>5.562313</td>\n",
       "    </tr>\n",
       "    <tr>\n",
       "      <th>OUT027</th>\n",
       "      <td>3694.038558</td>\n",
       "      <td>8.025963</td>\n",
       "    </tr>\n",
       "    <tr>\n",
       "      <th>OUT035</th>\n",
       "      <td>2438.841866</td>\n",
       "      <td>7.572702</td>\n",
       "    </tr>\n",
       "    <tr>\n",
       "      <th>OUT045</th>\n",
       "      <td>2192.384798</td>\n",
       "      <td>7.458142</td>\n",
       "    </tr>\n",
       "    <tr>\n",
       "      <th>OUT046</th>\n",
       "      <td>2277.844267</td>\n",
       "      <td>7.500214</td>\n",
       "    </tr>\n",
       "    <tr>\n",
       "      <th>OUT049</th>\n",
       "      <td>2348.354635</td>\n",
       "      <td>7.530575</td>\n",
       "    </tr>\n",
       "  </tbody>\n",
       "</table>\n",
       "</div>"
      ],
      "text/plain": [
       "                   Item_Outlet_Sales  log_sales\n",
       "Outlet_Identifier                              \n",
       "OUT010                    339.351662   5.540678\n",
       "OUT013                   2298.995256   7.475972\n",
       "OUT017                   2340.675263   7.518112\n",
       "OUT018                   1995.498739   7.332110\n",
       "OUT019                    340.329723   5.562313\n",
       "OUT027                   3694.038558   8.025963\n",
       "OUT035                   2438.841866   7.572702\n",
       "OUT045                   2192.384798   7.458142\n",
       "OUT046                   2277.844267   7.500214\n",
       "OUT049                   2348.354635   7.530575"
      ]
     },
     "execution_count": 74,
     "metadata": {},
     "output_type": "execute_result"
    }
   ],
   "source": [
    "data.pivot_table(values=[\"Item_Outlet_Sales\",\"log_sales\"],index = \"Outlet_Identifier\")"
   ]
  },
  {
   "cell_type": "markdown",
   "metadata": {},
   "source": [
    "There certainly are some stores that just perform better than others"
   ]
  },
  {
   "cell_type": "markdown",
   "metadata": {},
   "source": [
    "## Final Look"
   ]
  },
  {
   "cell_type": "markdown",
   "metadata": {},
   "source": [
    "With this we finish our EDA process. Take a look at the data post certain feature engineering techniques. "
   ]
  },
  {
   "cell_type": "code",
   "execution_count": 75,
   "metadata": {},
   "outputs": [
    {
     "data": {
      "text/html": [
       "<div>\n",
       "<style scoped>\n",
       "    .dataframe tbody tr th:only-of-type {\n",
       "        vertical-align: middle;\n",
       "    }\n",
       "\n",
       "    .dataframe tbody tr th {\n",
       "        vertical-align: top;\n",
       "    }\n",
       "\n",
       "    .dataframe thead th {\n",
       "        text-align: right;\n",
       "    }\n",
       "</style>\n",
       "<table border=\"1\" class=\"dataframe\">\n",
       "  <thead>\n",
       "    <tr style=\"text-align: right;\">\n",
       "      <th></th>\n",
       "      <th>Item_Fat_Content</th>\n",
       "      <th>Item_Identifier</th>\n",
       "      <th>Item_MRP</th>\n",
       "      <th>Item_Outlet_Sales</th>\n",
       "      <th>Item_Type</th>\n",
       "      <th>Item_Visibility</th>\n",
       "      <th>Item_Weight</th>\n",
       "      <th>Outlet_Establishment_Year</th>\n",
       "      <th>Outlet_Identifier</th>\n",
       "      <th>Outlet_Location_Type</th>\n",
       "      <th>Outlet_Size</th>\n",
       "      <th>Outlet_Type</th>\n",
       "      <th>source</th>\n",
       "      <th>log_sales</th>\n",
       "      <th>Item_Visibility_Ratio</th>\n",
       "      <th>Item_Cat</th>\n",
       "    </tr>\n",
       "  </thead>\n",
       "  <tbody>\n",
       "    <tr>\n",
       "      <th>0</th>\n",
       "      <td>Low Fat</td>\n",
       "      <td>FDA15</td>\n",
       "      <td>249.8092</td>\n",
       "      <td>3735.1380</td>\n",
       "      <td>Dairy</td>\n",
       "      <td>0.016047</td>\n",
       "      <td>9.30</td>\n",
       "      <td>14</td>\n",
       "      <td>OUT049</td>\n",
       "      <td>Tier 1</td>\n",
       "      <td>Medium</td>\n",
       "      <td>Supermarket Type1</td>\n",
       "      <td>train</td>\n",
       "      <td>8.225808</td>\n",
       "      <td>0.931078</td>\n",
       "      <td>FD</td>\n",
       "    </tr>\n",
       "    <tr>\n",
       "      <th>1</th>\n",
       "      <td>Regular</td>\n",
       "      <td>DRC01</td>\n",
       "      <td>48.2692</td>\n",
       "      <td>443.4228</td>\n",
       "      <td>Soft Drinks</td>\n",
       "      <td>0.019278</td>\n",
       "      <td>5.92</td>\n",
       "      <td>4</td>\n",
       "      <td>OUT018</td>\n",
       "      <td>Tier 3</td>\n",
       "      <td>Medium</td>\n",
       "      <td>Supermarket Type2</td>\n",
       "      <td>train</td>\n",
       "      <td>6.096776</td>\n",
       "      <td>0.933420</td>\n",
       "      <td>DR</td>\n",
       "    </tr>\n",
       "    <tr>\n",
       "      <th>2</th>\n",
       "      <td>Low Fat</td>\n",
       "      <td>FDN15</td>\n",
       "      <td>141.6180</td>\n",
       "      <td>2097.2700</td>\n",
       "      <td>Meat</td>\n",
       "      <td>0.016760</td>\n",
       "      <td>17.50</td>\n",
       "      <td>14</td>\n",
       "      <td>OUT049</td>\n",
       "      <td>Tier 1</td>\n",
       "      <td>Medium</td>\n",
       "      <td>Supermarket Type1</td>\n",
       "      <td>train</td>\n",
       "      <td>7.648868</td>\n",
       "      <td>0.960069</td>\n",
       "      <td>FD</td>\n",
       "    </tr>\n",
       "    <tr>\n",
       "      <th>3</th>\n",
       "      <td>Regular</td>\n",
       "      <td>FDX07</td>\n",
       "      <td>182.0950</td>\n",
       "      <td>732.3800</td>\n",
       "      <td>Fruits and Vegetables</td>\n",
       "      <td>0.017834</td>\n",
       "      <td>19.20</td>\n",
       "      <td>15</td>\n",
       "      <td>OUT010</td>\n",
       "      <td>Tier 3</td>\n",
       "      <td>Small</td>\n",
       "      <td>Grocery Store</td>\n",
       "      <td>train</td>\n",
       "      <td>6.597664</td>\n",
       "      <td>1.000000</td>\n",
       "      <td>FD</td>\n",
       "    </tr>\n",
       "    <tr>\n",
       "      <th>4</th>\n",
       "      <td>Non-Edible</td>\n",
       "      <td>NCD19</td>\n",
       "      <td>53.8614</td>\n",
       "      <td>994.7052</td>\n",
       "      <td>Household</td>\n",
       "      <td>0.009780</td>\n",
       "      <td>8.93</td>\n",
       "      <td>26</td>\n",
       "      <td>OUT013</td>\n",
       "      <td>Tier 3</td>\n",
       "      <td>High</td>\n",
       "      <td>Supermarket Type1</td>\n",
       "      <td>train</td>\n",
       "      <td>6.903451</td>\n",
       "      <td>1.000000</td>\n",
       "      <td>NC</td>\n",
       "    </tr>\n",
       "  </tbody>\n",
       "</table>\n",
       "</div>"
      ],
      "text/plain": [
       "  Item_Fat_Content Item_Identifier  Item_MRP  Item_Outlet_Sales  \\\n",
       "0          Low Fat           FDA15  249.8092          3735.1380   \n",
       "1          Regular           DRC01   48.2692           443.4228   \n",
       "2          Low Fat           FDN15  141.6180          2097.2700   \n",
       "3          Regular           FDX07  182.0950           732.3800   \n",
       "4       Non-Edible           NCD19   53.8614           994.7052   \n",
       "\n",
       "               Item_Type  Item_Visibility  Item_Weight  \\\n",
       "0                  Dairy         0.016047         9.30   \n",
       "1            Soft Drinks         0.019278         5.92   \n",
       "2                   Meat         0.016760        17.50   \n",
       "3  Fruits and Vegetables         0.017834        19.20   \n",
       "4              Household         0.009780         8.93   \n",
       "\n",
       "   Outlet_Establishment_Year Outlet_Identifier Outlet_Location_Type  \\\n",
       "0                         14            OUT049               Tier 1   \n",
       "1                          4            OUT018               Tier 3   \n",
       "2                         14            OUT049               Tier 1   \n",
       "3                         15            OUT010               Tier 3   \n",
       "4                         26            OUT013               Tier 3   \n",
       "\n",
       "  Outlet_Size        Outlet_Type source  log_sales  Item_Visibility_Ratio  \\\n",
       "0      Medium  Supermarket Type1  train   8.225808               0.931078   \n",
       "1      Medium  Supermarket Type2  train   6.096776               0.933420   \n",
       "2      Medium  Supermarket Type1  train   7.648868               0.960069   \n",
       "3       Small      Grocery Store  train   6.597664               1.000000   \n",
       "4        High  Supermarket Type1  train   6.903451               1.000000   \n",
       "\n",
       "  Item_Cat  \n",
       "0       FD  \n",
       "1       DR  \n",
       "2       FD  \n",
       "3       FD  \n",
       "4       NC  "
      ]
     },
     "execution_count": 75,
     "metadata": {},
     "output_type": "execute_result"
    }
   ],
   "source": [
    "data.head()"
   ]
  },
  {
   "cell_type": "markdown",
   "metadata": {},
   "source": [
    "# Encoding Categorical Variables"
   ]
  },
  {
   "cell_type": "markdown",
   "metadata": {},
   "source": [
    "The next step is to converrt categorical variables to integer formats that can be understood by our model. We will use one-hot-encoding to do that"
   ]
  },
  {
   "cell_type": "code",
   "execution_count": 76,
   "metadata": {},
   "outputs": [],
   "source": [
    "data[\"Outlet\"] = data[\"Outlet_Identifier\"]\n",
    "\n",
    "df = pd.get_dummies(data, columns=[\"Item_Fat_Content\",\"Outlet_Location_Type\",\"Outlet_Size\",\"Outlet_Type\",\"Item_Cat\",\"Outlet\"])\n",
    "\n",
    "df.drop([\"Item_Type\",\"Item_Visibility\",\"Item_Weight\"],axis=1,inplace=True)"
   ]
  },
  {
   "cell_type": "code",
   "execution_count": 77,
   "metadata": {},
   "outputs": [
    {
     "data": {
      "text/plain": [
       "Item_Identifier                   object\n",
       "Item_MRP                         float64\n",
       "Item_Outlet_Sales                float64\n",
       "Outlet_Establishment_Year          int64\n",
       "Outlet_Identifier                 object\n",
       "source                            object\n",
       "log_sales                        float64\n",
       "Item_Visibility_Ratio            float64\n",
       "Item_Fat_Content_Low Fat           uint8\n",
       "Item_Fat_Content_Non-Edible        uint8\n",
       "Item_Fat_Content_Regular           uint8\n",
       "Outlet_Location_Type_Tier 1        uint8\n",
       "Outlet_Location_Type_Tier 2        uint8\n",
       "Outlet_Location_Type_Tier 3        uint8\n",
       "Outlet_Size_High                   uint8\n",
       "Outlet_Size_Medium                 uint8\n",
       "Outlet_Size_Small                  uint8\n",
       "Outlet_Type_Grocery Store          uint8\n",
       "Outlet_Type_Supermarket Type1      uint8\n",
       "Outlet_Type_Supermarket Type2      uint8\n",
       "Outlet_Type_Supermarket Type3      uint8\n",
       "Item_Cat_DR                        uint8\n",
       "Item_Cat_FD                        uint8\n",
       "Item_Cat_NC                        uint8\n",
       "Outlet_OUT010                      uint8\n",
       "Outlet_OUT013                      uint8\n",
       "Outlet_OUT017                      uint8\n",
       "Outlet_OUT018                      uint8\n",
       "Outlet_OUT019                      uint8\n",
       "Outlet_OUT027                      uint8\n",
       "Outlet_OUT035                      uint8\n",
       "Outlet_OUT045                      uint8\n",
       "Outlet_OUT046                      uint8\n",
       "Outlet_OUT049                      uint8\n",
       "dtype: object"
      ]
     },
     "execution_count": 77,
     "metadata": {},
     "output_type": "execute_result"
    }
   ],
   "source": [
    "df.dtypes"
   ]
  },
  {
   "cell_type": "markdown",
   "metadata": {},
   "source": [
    "I have also split the data back again into train and test with the necessary features. Train is further split into X and y for feature space and target variable respectively. We can also drop a few columns if deemed to be not important in the model"
   ]
  },
  {
   "cell_type": "code",
   "execution_count": 78,
   "metadata": {},
   "outputs": [],
   "source": [
    "df_train = df.loc[df[\"source\"] == \"train\"].copy()\n",
    "df_train.drop([\"source\",\"Item_Identifier\",\"Outlet_Identifier\"],axis=1,inplace=True)\n",
    "\n",
    "df_train_X = df_train.drop([\"Item_Outlet_Sales\",\"log_sales\"],axis=1)\n",
    "df_train_y = df_train[\"Item_Outlet_Sales\"]\n",
    "df_train_y_log = df_train[\"log_sales\"]\n",
    "\n",
    "df_test = df.loc[df[\"source\"] == \"test\"].copy()\n",
    "submission = df_test[[\"Item_Identifier\",\"Outlet_Identifier\"]]\n",
    "df_test.drop([\"source\",\"Item_Outlet_Sales\",\"log_sales\",\"Item_Identifier\",\"Outlet_Identifier\"],axis=1,inplace=True)"
   ]
  },
  {
   "cell_type": "code",
   "execution_count": 79,
   "metadata": {},
   "outputs": [
    {
     "data": {
      "text/plain": [
       "((8523, 29), (8523,), (8523,), (5681, 29))"
      ]
     },
     "execution_count": 79,
     "metadata": {},
     "output_type": "execute_result"
    }
   ],
   "source": [
    "df_train_X.shape,df_train_y.shape, df_train_y_log.shape,df_test.shape"
   ]
  },
  {
   "cell_type": "markdown",
   "metadata": {},
   "source": [
    " "
   ]
  },
  {
   "cell_type": "markdown",
   "metadata": {},
   "source": [
    "# Model Building"
   ]
  },
  {
   "cell_type": "markdown",
   "metadata": {},
   "source": [
    "The function below consists of a basic pipeline that fits the model generates a cross-validation score as well as creates an output file"
   ]
  },
  {
   "cell_type": "code",
   "execution_count": 116,
   "metadata": {},
   "outputs": [],
   "source": [
    "def model_pipeline(model, train_x, train_y, indicator, test_x, subsmission):\n",
    "        \n",
    "        model.fit(train_x,train_y)\n",
    "        train_pred = model.predict(train_x)\n",
    "        \n",
    "        cv_score = cross_val_score(model, train_x, train_y, cv=10, scoring='mean_squared_error')\n",
    "        cv_score = np.sqrt(np.abs(cv_score))\n",
    "        print(\"\\n\",type(model).__name__)\n",
    "        print (\"\\nModel Report\")\n",
    "        print (\"RMSE : %.4g\" % np.sqrt(mean_squared_error(train_pred, train_y)))\n",
    "        print (\"CV Score : %.4g\" % (np.mean(cv_score)))\n",
    "\n",
    "        pred = model.predict(test_x)\n",
    "        if (indicator):\n",
    "            pred = np.exp(pred)\n",
    "            \n",
    "        sub = pd.DataFrame({\"Item_Identifier\":submission[\"Item_Identifier\"],\n",
    "              \"Outlet_Identifier\":submission[\"Outlet_Identifier\"], \n",
    "              \"Item_Outlet_Sales\":pred},columns=[\"Item_Identifier\",\"Outlet_Identifier\",\"Item_Outlet_Sales\"]).reset_index(drop=True)\n",
    "        sub.set_index(\"Item_Identifier\",inplace=True)\n",
    "        sub.to_csv(\"submission.csv\")\n",
    "        \n",
    "        return sub\n",
    "        "
   ]
  },
  {
   "cell_type": "markdown",
   "metadata": {},
   "source": [
    "## Decision Tree"
   ]
  },
  {
   "cell_type": "markdown",
   "metadata": {},
   "source": [
    "Lets start with one of the most basic models"
   ]
  },
  {
   "cell_type": "code",
   "execution_count": 117,
   "metadata": {},
   "outputs": [
    {
     "name": "stdout",
     "output_type": "stream",
     "text": [
      "\n",
      " DecisionTreeRegressor\n",
      "\n",
      "Model Report\n",
      "RMSE : 9.714\n",
      "CV Score : 1578\n",
      "\n",
      " DecisionTreeRegressor\n",
      "\n",
      "Model Report\n",
      "RMSE : 0.004995\n",
      "CV Score : 0.7574\n"
     ]
    }
   ],
   "source": [
    "DecTree = DecisionTreeRegressor()\n",
    "sub = model_pipeline(DecTree, df_train_X, df_train_y, 0, df_test, submission)\n",
    "sub = model_pipeline(DecTree, df_train_X, df_train_y_log, 1, df_test, submission)\n"
   ]
  },
  {
   "cell_type": "markdown",
   "metadata": {},
   "source": [
    "Alright. We have a model. We have some error scores. But the absolute value is not enough. Lets compare it with some imporvements. Maybe we can tweak some hyperparameters in the tree. Lets take a look at what we can work with"
   ]
  },
  {
   "cell_type": "code",
   "execution_count": 121,
   "metadata": {},
   "outputs": [
    {
     "data": {
      "text/plain": [
       "<bound method BaseEstimator.get_params of DecisionTreeRegressor(criterion='mse', max_depth=None, max_features=None,\n",
       "           max_leaf_nodes=None, min_impurity_decrease=0.0,\n",
       "           min_impurity_split=None, min_samples_leaf=1,\n",
       "           min_samples_split=2, min_weight_fraction_leaf=0.0,\n",
       "           presort=False, random_state=None, splitter='best')>"
      ]
     },
     "execution_count": 121,
     "metadata": {},
     "output_type": "execute_result"
    }
   ],
   "source": [
    "DecTree.get_params"
   ]
  },
  {
   "cell_type": "code",
   "execution_count": 126,
   "metadata": {},
   "outputs": [
    {
     "name": "stdout",
     "output_type": "stream",
     "text": [
      "Fitting 3 folds for each of 980 candidates, totalling 2940 fits\n"
     ]
    },
    {
     "name": "stderr",
     "output_type": "stream",
     "text": [
      "[Parallel(n_jobs=-1)]: Done 416 tasks      | elapsed:    2.3s\n",
      "[Parallel(n_jobs=-1)]: Done 2216 tasks      | elapsed:   19.7s\n",
      "[Parallel(n_jobs=-1)]: Done 2940 out of 2940 | elapsed:   27.7s finished\n"
     ]
    },
    {
     "name": "stdout",
     "output_type": "stream",
     "text": [
      "Fitting 3 folds for each of 980 candidates, totalling 2940 fits\n"
     ]
    },
    {
     "name": "stderr",
     "output_type": "stream",
     "text": [
      "[Parallel(n_jobs=-1)]: Done 248 tasks      | elapsed:    1.7s\n",
      "[Parallel(n_jobs=-1)]: Done 1448 tasks      | elapsed:   12.4s\n",
      "[Parallel(n_jobs=-1)]: Done 2940 out of 2940 | elapsed:   28.1s finished\n"
     ]
    },
    {
     "name": "stdout",
     "output_type": "stream",
     "text": [
      "Fitting 3 folds for each of 980 candidates, totalling 2940 fits\n"
     ]
    },
    {
     "name": "stderr",
     "output_type": "stream",
     "text": [
      "[Parallel(n_jobs=-1)]: Done 540 tasks      | elapsed:    3.9s\n",
      "[Parallel(n_jobs=-1)]: Done 2574 tasks      | elapsed:   27.8s\n",
      "[Parallel(n_jobs=-1)]: Done 2940 out of 2940 | elapsed:   31.7s finished\n"
     ]
    },
    {
     "name": "stdout",
     "output_type": "stream",
     "text": [
      "Fitting 3 folds for each of 980 candidates, totalling 2940 fits\n"
     ]
    },
    {
     "name": "stderr",
     "output_type": "stream",
     "text": [
      "[Parallel(n_jobs=-1)]: Done 348 tasks      | elapsed:    2.1s\n",
      "[Parallel(n_jobs=-1)]: Done 1848 tasks      | elapsed:   17.4s\n",
      "[Parallel(n_jobs=-1)]: Done 2940 out of 2940 | elapsed:   29.0s finished\n"
     ]
    },
    {
     "name": "stdout",
     "output_type": "stream",
     "text": [
      "Fitting 3 folds for each of 980 candidates, totalling 2940 fits\n"
     ]
    },
    {
     "name": "stderr",
     "output_type": "stream",
     "text": [
      "[Parallel(n_jobs=-1)]: Done 280 tasks      | elapsed:    1.8s\n",
      "[Parallel(n_jobs=-1)]: Done 1480 tasks      | elapsed:   12.6s\n",
      "[Parallel(n_jobs=-1)]: Done 2940 out of 2940 | elapsed:   24.2s finished\n"
     ]
    },
    {
     "name": "stdout",
     "output_type": "stream",
     "text": [
      "Fitting 3 folds for each of 980 candidates, totalling 2940 fits\n"
     ]
    },
    {
     "name": "stderr",
     "output_type": "stream",
     "text": [
      "[Parallel(n_jobs=-1)]: Done 416 tasks      | elapsed:    2.5s\n",
      "[Parallel(n_jobs=-1)]: Done 2216 tasks      | elapsed:   19.1s\n",
      "[Parallel(n_jobs=-1)]: Done 2940 out of 2940 | elapsed:   25.6s finished\n"
     ]
    },
    {
     "name": "stdout",
     "output_type": "stream",
     "text": [
      "Fitting 3 folds for each of 980 candidates, totalling 2940 fits\n"
     ]
    },
    {
     "name": "stderr",
     "output_type": "stream",
     "text": [
      "[Parallel(n_jobs=-1)]: Done 416 tasks      | elapsed:    2.3s\n",
      "[Parallel(n_jobs=-1)]: Done 2216 tasks      | elapsed:   19.3s\n",
      "[Parallel(n_jobs=-1)]: Done 2940 out of 2940 | elapsed:   25.5s finished\n"
     ]
    },
    {
     "name": "stdout",
     "output_type": "stream",
     "text": [
      "Fitting 3 folds for each of 980 candidates, totalling 2940 fits\n"
     ]
    },
    {
     "name": "stderr",
     "output_type": "stream",
     "text": [
      "[Parallel(n_jobs=-1)]: Done 660 tasks      | elapsed:    3.8s\n",
      "[Parallel(n_jobs=-1)]: Done 2940 out of 2940 | elapsed:   22.8s finished\n"
     ]
    },
    {
     "name": "stdout",
     "output_type": "stream",
     "text": [
      "Fitting 3 folds for each of 980 candidates, totalling 2940 fits\n"
     ]
    },
    {
     "name": "stderr",
     "output_type": "stream",
     "text": [
      "[Parallel(n_jobs=-1)]: Done 488 tasks      | elapsed:    3.1s\n",
      "[Parallel(n_jobs=-1)]: Done 2940 out of 2940 | elapsed:   23.1s finished\n"
     ]
    },
    {
     "name": "stdout",
     "output_type": "stream",
     "text": [
      "Fitting 3 folds for each of 980 candidates, totalling 2940 fits\n"
     ]
    },
    {
     "name": "stderr",
     "output_type": "stream",
     "text": [
      "[Parallel(n_jobs=-1)]: Done 540 tasks      | elapsed:    3.0s\n",
      "[Parallel(n_jobs=-1)]: Done 2940 out of 2940 | elapsed:   22.8s finished\n"
     ]
    },
    {
     "name": "stdout",
     "output_type": "stream",
     "text": [
      "Fitting 3 folds for each of 980 candidates, totalling 2940 fits\n"
     ]
    },
    {
     "name": "stderr",
     "output_type": "stream",
     "text": [
      "[Parallel(n_jobs=-1)]: Done 540 tasks      | elapsed:    3.1s\n"
     ]
    },
    {
     "name": "stdout",
     "output_type": "stream",
     "text": [
      "\n",
      " GridSearchCV\n",
      "\n",
      "Model Report\n",
      "RMSE : 1068\n",
      "CV Score : 1097\n"
     ]
    },
    {
     "name": "stderr",
     "output_type": "stream",
     "text": [
      "[Parallel(n_jobs=-1)]: Done 2940 out of 2940 | elapsed:   22.7s finished\n"
     ]
    }
   ],
   "source": [
    "parameters ={'max_leaf_nodes': list(range(2, 100)), 'max_depth':range(1,20,2)}\n",
    "gsearch = GridSearchCV(DecTree, parameters, verbose=1, cv = 3,n_jobs=-1)\n",
    "sub = model_pipeline(gsearch, df_train_X, df_train_y, 0, df_test, submission)"
   ]
  },
  {
   "cell_type": "code",
   "execution_count": 128,
   "metadata": {},
   "outputs": [
    {
     "data": {
      "text/plain": [
       "DecisionTreeRegressor(criterion='mse', max_depth=5, max_features=None,\n",
       "           max_leaf_nodes=23, min_impurity_decrease=0.0,\n",
       "           min_impurity_split=None, min_samples_leaf=1,\n",
       "           min_samples_split=2, min_weight_fraction_leaf=0.0,\n",
       "           presort=False, random_state=None, splitter='best')"
      ]
     },
     "execution_count": 128,
     "metadata": {},
     "output_type": "execute_result"
    }
   ],
   "source": [
    "gsearch.best_estimator_"
   ]
  },
  {
   "cell_type": "markdown",
   "metadata": {},
   "source": [
    "So this was our best estimator. It boosted the performance significantly"
   ]
  },
  {
   "cell_type": "markdown",
   "metadata": {},
   "source": [
    "## Linear Regression"
   ]
  },
  {
   "cell_type": "code",
   "execution_count": 129,
   "metadata": {},
   "outputs": [
    {
     "name": "stdout",
     "output_type": "stream",
     "text": [
      "\n",
      " LinearRegression\n",
      "\n",
      "Model Report\n",
      "RMSE : 1127\n",
      "CV Score : 1129\n",
      "\n",
      " LinearRegression\n",
      "\n",
      "Model Report\n",
      "RMSE : 0.5367\n",
      "CV Score : 0.5374\n"
     ]
    }
   ],
   "source": [
    "linreg = LinearRegression()\n",
    "sub = model_pipeline(linreg, df_train_X, df_train_y, 0, df_test, submission)\n",
    "sub = model_pipeline(linreg, df_train_X, df_train_y_log, 1, df_test, submission)"
   ]
  },
  {
   "cell_type": "markdown",
   "metadata": {},
   "source": [
    "The bare bones linear regression model fares much better than the equivalent Decision Tree. Lets see if using some form of regularization can make it genealize better"
   ]
  },
  {
   "cell_type": "markdown",
   "metadata": {},
   "source": [
    "## Lasso"
   ]
  },
  {
   "cell_type": "code",
   "execution_count": 131,
   "metadata": {},
   "outputs": [
    {
     "name": "stdout",
     "output_type": "stream",
     "text": [
      "\n",
      " Lasso\n",
      "\n",
      "Model Report\n",
      "RMSE : 1128\n",
      "CV Score : 1129\n",
      "\n",
      " Lasso\n",
      "\n",
      "Model Report\n",
      "RMSE : 0.8734\n",
      "CV Score : 0.8734\n"
     ]
    }
   ],
   "source": [
    "lasso = Lasso()\n",
    "sub = model_pipeline(lasso, df_train_X, df_train_y, 0, df_test, submission)\n",
    "sub = model_pipeline(lasso, df_train_X, df_train_y_log, 1, df_test, submission)"
   ]
  },
  {
   "cell_type": "markdown",
   "metadata": {},
   "source": [
    "## Ridge"
   ]
  },
  {
   "cell_type": "code",
   "execution_count": 136,
   "metadata": {},
   "outputs": [
    {
     "name": "stdout",
     "output_type": "stream",
     "text": [
      "\n",
      " Ridge\n",
      "\n",
      "Model Report\n",
      "RMSE : 1127\n",
      "CV Score : 1129\n",
      "\n",
      " Ridge\n",
      "\n",
      "Model Report\n",
      "RMSE : 0.5367\n",
      "CV Score : 0.5374\n"
     ]
    }
   ],
   "source": [
    "ridge = Ridge()\n",
    "sub = model_pipeline(ridge, df_train_X, df_train_y, 0, df_test, submission)\n",
    "sub = model_pipeline(ridge, df_train_X, df_train_y_log, 1, df_test, submission)"
   ]
  },
  {
   "cell_type": "markdown",
   "metadata": {},
   "source": [
    "Wow they performed almost equivalently. Lets try to improve in this by using GridSearch again"
   ]
  },
  {
   "cell_type": "code",
   "execution_count": 137,
   "metadata": {},
   "outputs": [
    {
     "data": {
      "text/plain": [
       "<bound method BaseEstimator.get_params of Ridge(alpha=1.0, copy_X=True, fit_intercept=True, max_iter=None,\n",
       "   normalize=False, random_state=None, solver='auto', tol=0.001)>"
      ]
     },
     "execution_count": 137,
     "metadata": {},
     "output_type": "execute_result"
    }
   ],
   "source": [
    "ridge.get_params"
   ]
  },
  {
   "cell_type": "code",
   "execution_count": 138,
   "metadata": {},
   "outputs": [
    {
     "name": "stdout",
     "output_type": "stream",
     "text": [
      "Fitting 3 folds for each of 20 candidates, totalling 60 fits\n"
     ]
    },
    {
     "name": "stderr",
     "output_type": "stream",
     "text": [
      "[Parallel(n_jobs=-1)]: Done  60 out of  60 | elapsed:    0.8s finished\n"
     ]
    },
    {
     "name": "stdout",
     "output_type": "stream",
     "text": [
      "Fitting 3 folds for each of 20 candidates, totalling 60 fits\n"
     ]
    },
    {
     "name": "stderr",
     "output_type": "stream",
     "text": [
      "[Parallel(n_jobs=-1)]: Done  60 out of  60 | elapsed:    0.8s finished\n"
     ]
    },
    {
     "name": "stdout",
     "output_type": "stream",
     "text": [
      "Fitting 3 folds for each of 20 candidates, totalling 60 fits\n"
     ]
    },
    {
     "name": "stderr",
     "output_type": "stream",
     "text": [
      "[Parallel(n_jobs=-1)]: Done  60 out of  60 | elapsed:    0.9s finished\n"
     ]
    },
    {
     "name": "stdout",
     "output_type": "stream",
     "text": [
      "Fitting 3 folds for each of 20 candidates, totalling 60 fits\n"
     ]
    },
    {
     "name": "stderr",
     "output_type": "stream",
     "text": [
      "[Parallel(n_jobs=-1)]: Done  60 out of  60 | elapsed:    0.8s finished\n"
     ]
    },
    {
     "name": "stdout",
     "output_type": "stream",
     "text": [
      "Fitting 3 folds for each of 20 candidates, totalling 60 fits\n"
     ]
    },
    {
     "name": "stderr",
     "output_type": "stream",
     "text": [
      "[Parallel(n_jobs=-1)]: Done  60 out of  60 | elapsed:    0.9s finished\n"
     ]
    },
    {
     "name": "stdout",
     "output_type": "stream",
     "text": [
      "Fitting 3 folds for each of 20 candidates, totalling 60 fits\n"
     ]
    },
    {
     "name": "stderr",
     "output_type": "stream",
     "text": [
      "[Parallel(n_jobs=-1)]: Done  60 out of  60 | elapsed:    0.8s finished\n"
     ]
    },
    {
     "name": "stdout",
     "output_type": "stream",
     "text": [
      "Fitting 3 folds for each of 20 candidates, totalling 60 fits\n"
     ]
    },
    {
     "name": "stderr",
     "output_type": "stream",
     "text": [
      "[Parallel(n_jobs=-1)]: Done  60 out of  60 | elapsed:    0.8s finished\n"
     ]
    },
    {
     "name": "stdout",
     "output_type": "stream",
     "text": [
      "Fitting 3 folds for each of 20 candidates, totalling 60 fits\n"
     ]
    },
    {
     "name": "stderr",
     "output_type": "stream",
     "text": [
      "[Parallel(n_jobs=-1)]: Done  60 out of  60 | elapsed:    0.8s finished\n"
     ]
    },
    {
     "name": "stdout",
     "output_type": "stream",
     "text": [
      "Fitting 3 folds for each of 20 candidates, totalling 60 fits\n"
     ]
    },
    {
     "name": "stderr",
     "output_type": "stream",
     "text": [
      "[Parallel(n_jobs=-1)]: Done  60 out of  60 | elapsed:    0.8s finished\n"
     ]
    },
    {
     "name": "stdout",
     "output_type": "stream",
     "text": [
      "Fitting 3 folds for each of 20 candidates, totalling 60 fits\n"
     ]
    },
    {
     "name": "stderr",
     "output_type": "stream",
     "text": [
      "[Parallel(n_jobs=-1)]: Done  60 out of  60 | elapsed:    0.8s finished\n"
     ]
    },
    {
     "name": "stdout",
     "output_type": "stream",
     "text": [
      "Fitting 3 folds for each of 20 candidates, totalling 60 fits\n",
      "\n",
      " GridSearchCV\n",
      "\n",
      "Model Report\n",
      "RMSE : 1127\n",
      "CV Score : 1129\n"
     ]
    },
    {
     "name": "stderr",
     "output_type": "stream",
     "text": [
      "[Parallel(n_jobs=-1)]: Done  60 out of  60 | elapsed:    0.6s finished\n"
     ]
    }
   ],
   "source": [
    "parameters = {'alpha':range(1,100,5)}\n",
    "gsearch = GridSearchCV(ridge, parameters, verbose=1, cv = 3,n_jobs=-1)\n",
    "sub = model_pipeline(gsearch, df_train_X, df_train_y, 0, df_test, submission)"
   ]
  },
  {
   "cell_type": "markdown",
   "metadata": {},
   "source": [
    "Looks like this is the best we can do !"
   ]
  },
  {
   "cell_type": "markdown",
   "metadata": {},
   "source": [
    "## Random Forest"
   ]
  },
  {
   "cell_type": "markdown",
   "metadata": {},
   "source": [
    "Lets try with a more powerful model. Maybe an enseble of trees can give a better performance"
   ]
  },
  {
   "cell_type": "code",
   "execution_count": 139,
   "metadata": {},
   "outputs": [
    {
     "name": "stdout",
     "output_type": "stream",
     "text": [
      "\n",
      " RandomForestRegressor\n",
      "\n",
      "Model Report\n",
      "RMSE : 506.9\n",
      "CV Score : 1219\n",
      "\n",
      " RandomForestRegressor\n",
      "\n",
      "Model Report\n",
      "RMSE : 0.2418\n",
      "CV Score : 0.5887\n"
     ]
    }
   ],
   "source": [
    "rf = RandomForestRegressor()\n",
    "sub = model_pipeline(rf, df_train_X, df_train_y, 0, df_test, submission)\n",
    "sub = model_pipeline(rf, df_train_X, df_train_y_log, 1, df_test, submission)"
   ]
  },
  {
   "cell_type": "markdown",
   "metadata": {},
   "source": [
    "Not too great but trying with the parameters below fetched a good result"
   ]
  },
  {
   "cell_type": "code",
   "execution_count": 140,
   "metadata": {},
   "outputs": [
    {
     "name": "stdout",
     "output_type": "stream",
     "text": [
      "\n",
      " RandomForestRegressor\n",
      "\n",
      "Model Report\n",
      "RMSE : 1073\n",
      "CV Score : 1086\n",
      "\n",
      " RandomForestRegressor\n",
      "\n",
      "Model Report\n",
      "RMSE : 0.5213\n",
      "CV Score : 0.5281\n"
     ]
    }
   ],
   "source": [
    "rf = RandomForestRegressor(n_estimators=200,max_depth=5, min_samples_leaf=100,n_jobs=-1)\n",
    "sub = model_pipeline(rf, df_train_X, df_train_y, 0, df_test, submission)\n",
    "sub = model_pipeline(rf, df_train_X, df_train_y_log, 1, df_test, submission)"
   ]
  },
  {
   "cell_type": "markdown",
   "metadata": {},
   "source": [
    "## Gradient Boosting"
   ]
  },
  {
   "cell_type": "code",
   "execution_count": 143,
   "metadata": {},
   "outputs": [
    {
     "name": "stdout",
     "output_type": "stream",
     "text": [
      "\n",
      " GradientBoostingRegressor\n",
      "\n",
      "Model Report\n",
      "RMSE : 1037\n",
      "CV Score : 1086\n",
      "\n",
      " GradientBoostingRegressor\n",
      "\n",
      "Model Report\n",
      "RMSE : 0.5004\n",
      "CV Score : 0.5215\n"
     ]
    }
   ],
   "source": [
    "gbm =  GradientBoostingRegressor(learning_rate=0.01, n_estimators=500,max_depth=5, min_samples_split=10, min_samples_leaf=1, \n",
    "                                    subsample=0.7,max_features=7, random_state=101)\n",
    "sub = model_pipeline(gbm, df_train_X, df_train_y, 0, df_test, submission)\n",
    "sub = model_pipeline(gbm, df_train_X, df_train_y_log, 1, df_test, submission)"
   ]
  },
  {
   "cell_type": "markdown",
   "metadata": {},
   "source": [
    "# Conclusion"
   ]
  },
  {
   "cell_type": "markdown",
   "metadata": {},
   "source": [
    "In this project I have used the Big Mart data to predict sales for different outlets given certain features. I tested four different models and tried to optimize them by trying to tune the hyperparameters. A great chunk of the problem was focussed on EDA and feature engineering. It turns out the Graadient Boosting Tree achieved the best performance with a cross validated RMSE of 1086. It must be noted that the sales ranges from 30 to 14000."
   ]
  }
 ],
 "metadata": {
  "kernelspec": {
   "display_name": "Python 3",
   "language": "python",
   "name": "python3"
  },
  "language_info": {
   "codemirror_mode": {
    "name": "ipython",
    "version": 3
   },
   "file_extension": ".py",
   "mimetype": "text/x-python",
   "name": "python",
   "nbconvert_exporter": "python",
   "pygments_lexer": "ipython3",
   "version": "3.6.4"
  }
 },
 "nbformat": 4,
 "nbformat_minor": 2
}
